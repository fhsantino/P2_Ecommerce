{
  "nbformat": 4,
  "nbformat_minor": 0,
  "metadata": {
    "colab": {
      "name": "Case Ecommerce - Git",
      "provenance": [],
      "collapsed_sections": [],
      "toc_visible": true,
      "authorship_tag": "ABX9TyMWV7R98ISZv/PYRkKSthZr",
      "include_colab_link": true
    },
    "kernelspec": {
      "name": "python3",
      "display_name": "Python 3"
    },
    "language_info": {
      "name": "python"
    }
  },
  "cells": [
    {
      "cell_type": "markdown",
      "metadata": {
        "id": "view-in-github",
        "colab_type": "text"
      },
      "source": [
        "<a href=\"https://colab.research.google.com/github/fhsantino/P2_Ecommerce/blob/main/Case_Ecommerce_Git.ipynb\" target=\"_parent\"><img src=\"https://colab.research.google.com/assets/colab-badge.svg\" alt=\"Open In Colab\"/></a>"
      ]
    },
    {
      "cell_type": "markdown",
      "metadata": {
        "id": "fAzgcGA4OYh3"
      },
      "source": [
        "# Introdução #\n",
        "\n",
        "Case de análise exploratória de dados (E.D.A) dos dados de venda de uma loja online (E-Commerce) "
      ]
    },
    {
      "cell_type": "code",
      "metadata": {
        "id": "ff-k4Xru9Klq"
      },
      "source": [
        "# Inicialização\n",
        "import pandas as pd\n",
        "import numpy as np\n",
        "import matplotlib as plt"
      ],
      "execution_count": null,
      "outputs": []
    },
    {
      "cell_type": "markdown",
      "metadata": {
        "id": "Daz40xrq862s"
      },
      "source": [
        "## Case VAI Store ##\n",
        "\n",
        "1 - Importação dos dados"
      ]
    },
    {
      "cell_type": "code",
      "metadata": {
        "colab": {
          "base_uri": "https://localhost:8080/",
          "height": 203
        },
        "id": "oDkMKE4k6gne",
        "outputId": "83d2d13d-b0eb-4826-e8c5-95154df72f10"
      },
      "source": [
        "# Origem do Tráfego -> CSV\n",
        "df1 = pd.read_csv(\"ORIGEM_TRAFEGO.csv\", sep=';')\n",
        "df1.head()"
      ],
      "execution_count": null,
      "outputs": [
        {
          "output_type": "execute_result",
          "data": {
            "text/html": [
              "<div>\n",
              "<style scoped>\n",
              "    .dataframe tbody tr th:only-of-type {\n",
              "        vertical-align: middle;\n",
              "    }\n",
              "\n",
              "    .dataframe tbody tr th {\n",
              "        vertical-align: top;\n",
              "    }\n",
              "\n",
              "    .dataframe thead th {\n",
              "        text-align: right;\n",
              "    }\n",
              "</style>\n",
              "<table border=\"1\" class=\"dataframe\">\n",
              "  <thead>\n",
              "    <tr style=\"text-align: right;\">\n",
              "      <th></th>\n",
              "      <th>PEDIDO_ERP</th>\n",
              "      <th>CANAL_MARKETING</th>\n",
              "    </tr>\n",
              "  </thead>\n",
              "  <tbody>\n",
              "    <tr>\n",
              "      <th>0</th>\n",
              "      <td>P10000123123</td>\n",
              "      <td>Google Ads</td>\n",
              "    </tr>\n",
              "    <tr>\n",
              "      <th>1</th>\n",
              "      <td>P10000123124</td>\n",
              "      <td>Facebook Ads</td>\n",
              "    </tr>\n",
              "    <tr>\n",
              "      <th>2</th>\n",
              "      <td>P10000123125</td>\n",
              "      <td>Email</td>\n",
              "    </tr>\n",
              "    <tr>\n",
              "      <th>3</th>\n",
              "      <td>P10000123126</td>\n",
              "      <td>Direto</td>\n",
              "    </tr>\n",
              "    <tr>\n",
              "      <th>4</th>\n",
              "      <td>P10000123127</td>\n",
              "      <td>Busca orgânica</td>\n",
              "    </tr>\n",
              "  </tbody>\n",
              "</table>\n",
              "</div>"
            ],
            "text/plain": [
              "     PEDIDO_ERP CANAL_MARKETING\n",
              "0  P10000123123      Google Ads\n",
              "1  P10000123124    Facebook Ads\n",
              "2  P10000123125           Email\n",
              "3  P10000123126          Direto\n",
              "4  P10000123127  Busca orgânica"
            ]
          },
          "metadata": {
            "tags": []
          },
          "execution_count": 17
        }
      ]
    },
    {
      "cell_type": "code",
      "metadata": {
        "colab": {
          "base_uri": "https://localhost:8080/"
        },
        "id": "CpT8Ernj9z9g",
        "outputId": "8b7ad78c-2822-479c-fc80-e37d95cb6f39"
      },
      "source": [
        "df1.info()"
      ],
      "execution_count": null,
      "outputs": [
        {
          "output_type": "stream",
          "text": [
            "<class 'pandas.core.frame.DataFrame'>\n",
            "RangeIndex: 172031 entries, 0 to 172030\n",
            "Data columns (total 2 columns):\n",
            " #   Column           Non-Null Count   Dtype \n",
            "---  ------           --------------   ----- \n",
            " 0   PEDIDO_ERP       172031 non-null  object\n",
            " 1   CANAL_MARKETING  151600 non-null  object\n",
            "dtypes: object(2)\n",
            "memory usage: 2.6+ MB\n"
          ],
          "name": "stdout"
        }
      ]
    },
    {
      "cell_type": "markdown",
      "metadata": {
        "id": "83X8mmLA94T-"
      },
      "source": [
        "# Etapa 1 #\n",
        "##Análise da distribuição da origem do tráfego##"
      ]
    },
    {
      "cell_type": "markdown",
      "metadata": {
        "id": "V_pE5Sk8Cfa2"
      },
      "source": [
        "## Gasto com Mídia ##"
      ]
    },
    {
      "cell_type": "code",
      "metadata": {
        "colab": {
          "resources": {
            "http://localhost:8080/nbextensions/google.colab/files.js": {
              "data": "Ly8gQ29weXJpZ2h0IDIwMTcgR29vZ2xlIExMQwovLwovLyBMaWNlbnNlZCB1bmRlciB0aGUgQXBhY2hlIExpY2Vuc2UsIFZlcnNpb24gMi4wICh0aGUgIkxpY2Vuc2UiKTsKLy8geW91IG1heSBub3QgdXNlIHRoaXMgZmlsZSBleGNlcHQgaW4gY29tcGxpYW5jZSB3aXRoIHRoZSBMaWNlbnNlLgovLyBZb3UgbWF5IG9idGFpbiBhIGNvcHkgb2YgdGhlIExpY2Vuc2UgYXQKLy8KLy8gICAgICBodHRwOi8vd3d3LmFwYWNoZS5vcmcvbGljZW5zZXMvTElDRU5TRS0yLjAKLy8KLy8gVW5sZXNzIHJlcXVpcmVkIGJ5IGFwcGxpY2FibGUgbGF3IG9yIGFncmVlZCB0byBpbiB3cml0aW5nLCBzb2Z0d2FyZQovLyBkaXN0cmlidXRlZCB1bmRlciB0aGUgTGljZW5zZSBpcyBkaXN0cmlidXRlZCBvbiBhbiAiQVMgSVMiIEJBU0lTLAovLyBXSVRIT1VUIFdBUlJBTlRJRVMgT1IgQ09ORElUSU9OUyBPRiBBTlkgS0lORCwgZWl0aGVyIGV4cHJlc3Mgb3IgaW1wbGllZC4KLy8gU2VlIHRoZSBMaWNlbnNlIGZvciB0aGUgc3BlY2lmaWMgbGFuZ3VhZ2UgZ292ZXJuaW5nIHBlcm1pc3Npb25zIGFuZAovLyBsaW1pdGF0aW9ucyB1bmRlciB0aGUgTGljZW5zZS4KCi8qKgogKiBAZmlsZW92ZXJ2aWV3IEhlbHBlcnMgZm9yIGdvb2dsZS5jb2xhYiBQeXRob24gbW9kdWxlLgogKi8KKGZ1bmN0aW9uKHNjb3BlKSB7CmZ1bmN0aW9uIHNwYW4odGV4dCwgc3R5bGVBdHRyaWJ1dGVzID0ge30pIHsKICBjb25zdCBlbGVtZW50ID0gZG9jdW1lbnQuY3JlYXRlRWxlbWVudCgnc3BhbicpOwogIGVsZW1lbnQudGV4dENvbnRlbnQgPSB0ZXh0OwogIGZvciAoY29uc3Qga2V5IG9mIE9iamVjdC5rZXlzKHN0eWxlQXR0cmlidXRlcykpIHsKICAgIGVsZW1lbnQuc3R5bGVba2V5XSA9IHN0eWxlQXR0cmlidXRlc1trZXldOwogIH0KICByZXR1cm4gZWxlbWVudDsKfQoKLy8gTWF4IG51bWJlciBvZiBieXRlcyB3aGljaCB3aWxsIGJlIHVwbG9hZGVkIGF0IGEgdGltZS4KY29uc3QgTUFYX1BBWUxPQURfU0laRSA9IDEwMCAqIDEwMjQ7CgpmdW5jdGlvbiBfdXBsb2FkRmlsZXMoaW5wdXRJZCwgb3V0cHV0SWQpIHsKICBjb25zdCBzdGVwcyA9IHVwbG9hZEZpbGVzU3RlcChpbnB1dElkLCBvdXRwdXRJZCk7CiAgY29uc3Qgb3V0cHV0RWxlbWVudCA9IGRvY3VtZW50LmdldEVsZW1lbnRCeUlkKG91dHB1dElkKTsKICAvLyBDYWNoZSBzdGVwcyBvbiB0aGUgb3V0cHV0RWxlbWVudCB0byBtYWtlIGl0IGF2YWlsYWJsZSBmb3IgdGhlIG5leHQgY2FsbAogIC8vIHRvIHVwbG9hZEZpbGVzQ29udGludWUgZnJvbSBQeXRob24uCiAgb3V0cHV0RWxlbWVudC5zdGVwcyA9IHN0ZXBzOwoKICByZXR1cm4gX3VwbG9hZEZpbGVzQ29udGludWUob3V0cHV0SWQpOwp9CgovLyBUaGlzIGlzIHJvdWdobHkgYW4gYXN5bmMgZ2VuZXJhdG9yIChub3Qgc3VwcG9ydGVkIGluIHRoZSBicm93c2VyIHlldCksCi8vIHdoZXJlIHRoZXJlIGFyZSBtdWx0aXBsZSBhc3luY2hyb25vdXMgc3RlcHMgYW5kIHRoZSBQeXRob24gc2lkZSBpcyBnb2luZwovLyB0byBwb2xsIGZvciBjb21wbGV0aW9uIG9mIGVhY2ggc3RlcC4KLy8gVGhpcyB1c2VzIGEgUHJvbWlzZSB0byBibG9jayB0aGUgcHl0aG9uIHNpZGUgb24gY29tcGxldGlvbiBvZiBlYWNoIHN0ZXAsCi8vIHRoZW4gcGFzc2VzIHRoZSByZXN1bHQgb2YgdGhlIHByZXZpb3VzIHN0ZXAgYXMgdGhlIGlucHV0IHRvIHRoZSBuZXh0IHN0ZXAuCmZ1bmN0aW9uIF91cGxvYWRGaWxlc0NvbnRpbnVlKG91dHB1dElkKSB7CiAgY29uc3Qgb3V0cHV0RWxlbWVudCA9IGRvY3VtZW50LmdldEVsZW1lbnRCeUlkKG91dHB1dElkKTsKICBjb25zdCBzdGVwcyA9IG91dHB1dEVsZW1lbnQuc3RlcHM7CgogIGNvbnN0IG5leHQgPSBzdGVwcy5uZXh0KG91dHB1dEVsZW1lbnQubGFzdFByb21pc2VWYWx1ZSk7CiAgcmV0dXJuIFByb21pc2UucmVzb2x2ZShuZXh0LnZhbHVlLnByb21pc2UpLnRoZW4oKHZhbHVlKSA9PiB7CiAgICAvLyBDYWNoZSB0aGUgbGFzdCBwcm9taXNlIHZhbHVlIHRvIG1ha2UgaXQgYXZhaWxhYmxlIHRvIHRoZSBuZXh0CiAgICAvLyBzdGVwIG9mIHRoZSBnZW5lcmF0b3IuCiAgICBvdXRwdXRFbGVtZW50Lmxhc3RQcm9taXNlVmFsdWUgPSB2YWx1ZTsKICAgIHJldHVybiBuZXh0LnZhbHVlLnJlc3BvbnNlOwogIH0pOwp9CgovKioKICogR2VuZXJhdG9yIGZ1bmN0aW9uIHdoaWNoIGlzIGNhbGxlZCBiZXR3ZWVuIGVhY2ggYXN5bmMgc3RlcCBvZiB0aGUgdXBsb2FkCiAqIHByb2Nlc3MuCiAqIEBwYXJhbSB7c3RyaW5nfSBpbnB1dElkIEVsZW1lbnQgSUQgb2YgdGhlIGlucHV0IGZpbGUgcGlja2VyIGVsZW1lbnQuCiAqIEBwYXJhbSB7c3RyaW5nfSBvdXRwdXRJZCBFbGVtZW50IElEIG9mIHRoZSBvdXRwdXQgZGlzcGxheS4KICogQHJldHVybiB7IUl0ZXJhYmxlPCFPYmplY3Q+fSBJdGVyYWJsZSBvZiBuZXh0IHN0ZXBzLgogKi8KZnVuY3Rpb24qIHVwbG9hZEZpbGVzU3RlcChpbnB1dElkLCBvdXRwdXRJZCkgewogIGNvbnN0IGlucHV0RWxlbWVudCA9IGRvY3VtZW50LmdldEVsZW1lbnRCeUlkKGlucHV0SWQpOwogIGlucHV0RWxlbWVudC5kaXNhYmxlZCA9IGZhbHNlOwoKICBjb25zdCBvdXRwdXRFbGVtZW50ID0gZG9jdW1lbnQuZ2V0RWxlbWVudEJ5SWQob3V0cHV0SWQpOwogIG91dHB1dEVsZW1lbnQuaW5uZXJIVE1MID0gJyc7CgogIGNvbnN0IHBpY2tlZFByb21pc2UgPSBuZXcgUHJvbWlzZSgocmVzb2x2ZSkgPT4gewogICAgaW5wdXRFbGVtZW50LmFkZEV2ZW50TGlzdGVuZXIoJ2NoYW5nZScsIChlKSA9PiB7CiAgICAgIHJlc29sdmUoZS50YXJnZXQuZmlsZXMpOwogICAgfSk7CiAgfSk7CgogIGNvbnN0IGNhbmNlbCA9IGRvY3VtZW50LmNyZWF0ZUVsZW1lbnQoJ2J1dHRvbicpOwogIGlucHV0RWxlbWVudC5wYXJlbnRFbGVtZW50LmFwcGVuZENoaWxkKGNhbmNlbCk7CiAgY2FuY2VsLnRleHRDb250ZW50ID0gJ0NhbmNlbCB1cGxvYWQnOwogIGNvbnN0IGNhbmNlbFByb21pc2UgPSBuZXcgUHJvbWlzZSgocmVzb2x2ZSkgPT4gewogICAgY2FuY2VsLm9uY2xpY2sgPSAoKSA9PiB7CiAgICAgIHJlc29sdmUobnVsbCk7CiAgICB9OwogIH0pOwoKICAvLyBXYWl0IGZvciB0aGUgdXNlciB0byBwaWNrIHRoZSBmaWxlcy4KICBjb25zdCBmaWxlcyA9IHlpZWxkIHsKICAgIHByb21pc2U6IFByb21pc2UucmFjZShbcGlja2VkUHJvbWlzZSwgY2FuY2VsUHJvbWlzZV0pLAogICAgcmVzcG9uc2U6IHsKICAgICAgYWN0aW9uOiAnc3RhcnRpbmcnLAogICAgfQogIH07CgogIGNhbmNlbC5yZW1vdmUoKTsKCiAgLy8gRGlzYWJsZSB0aGUgaW5wdXQgZWxlbWVudCBzaW5jZSBmdXJ0aGVyIHBpY2tzIGFyZSBub3QgYWxsb3dlZC4KICBpbnB1dEVsZW1lbnQuZGlzYWJsZWQgPSB0cnVlOwoKICBpZiAoIWZpbGVzKSB7CiAgICByZXR1cm4gewogICAgICByZXNwb25zZTogewogICAgICAgIGFjdGlvbjogJ2NvbXBsZXRlJywKICAgICAgfQogICAgfTsKICB9CgogIGZvciAoY29uc3QgZmlsZSBvZiBmaWxlcykgewogICAgY29uc3QgbGkgPSBkb2N1bWVudC5jcmVhdGVFbGVtZW50KCdsaScpOwogICAgbGkuYXBwZW5kKHNwYW4oZmlsZS5uYW1lLCB7Zm9udFdlaWdodDogJ2JvbGQnfSkpOwogICAgbGkuYXBwZW5kKHNwYW4oCiAgICAgICAgYCgke2ZpbGUudHlwZSB8fCAnbi9hJ30pIC0gJHtmaWxlLnNpemV9IGJ5dGVzLCBgICsKICAgICAgICBgbGFzdCBtb2RpZmllZDogJHsKICAgICAgICAgICAgZmlsZS5sYXN0TW9kaWZpZWREYXRlID8gZmlsZS5sYXN0TW9kaWZpZWREYXRlLnRvTG9jYWxlRGF0ZVN0cmluZygpIDoKICAgICAgICAgICAgICAgICAgICAgICAgICAgICAgICAgICAgJ24vYSd9IC0gYCkpOwogICAgY29uc3QgcGVyY2VudCA9IHNwYW4oJzAlIGRvbmUnKTsKICAgIGxpLmFwcGVuZENoaWxkKHBlcmNlbnQpOwoKICAgIG91dHB1dEVsZW1lbnQuYXBwZW5kQ2hpbGQobGkpOwoKICAgIGNvbnN0IGZpbGVEYXRhUHJvbWlzZSA9IG5ldyBQcm9taXNlKChyZXNvbHZlKSA9PiB7CiAgICAgIGNvbnN0IHJlYWRlciA9IG5ldyBGaWxlUmVhZGVyKCk7CiAgICAgIHJlYWRlci5vbmxvYWQgPSAoZSkgPT4gewogICAgICAgIHJlc29sdmUoZS50YXJnZXQucmVzdWx0KTsKICAgICAgfTsKICAgICAgcmVhZGVyLnJlYWRBc0FycmF5QnVmZmVyKGZpbGUpOwogICAgfSk7CiAgICAvLyBXYWl0IGZvciB0aGUgZGF0YSB0byBiZSByZWFkeS4KICAgIGxldCBmaWxlRGF0YSA9IHlpZWxkIHsKICAgICAgcHJvbWlzZTogZmlsZURhdGFQcm9taXNlLAogICAgICByZXNwb25zZTogewogICAgICAgIGFjdGlvbjogJ2NvbnRpbnVlJywKICAgICAgfQogICAgfTsKCiAgICAvLyBVc2UgYSBjaHVua2VkIHNlbmRpbmcgdG8gYXZvaWQgbWVzc2FnZSBzaXplIGxpbWl0cy4gU2VlIGIvNjIxMTU2NjAuCiAgICBsZXQgcG9zaXRpb24gPSAwOwogICAgd2hpbGUgKHBvc2l0aW9uIDwgZmlsZURhdGEuYnl0ZUxlbmd0aCkgewogICAgICBjb25zdCBsZW5ndGggPSBNYXRoLm1pbihmaWxlRGF0YS5ieXRlTGVuZ3RoIC0gcG9zaXRpb24sIE1BWF9QQVlMT0FEX1NJWkUpOwogICAgICBjb25zdCBjaHVuayA9IG5ldyBVaW50OEFycmF5KGZpbGVEYXRhLCBwb3NpdGlvbiwgbGVuZ3RoKTsKICAgICAgcG9zaXRpb24gKz0gbGVuZ3RoOwoKICAgICAgY29uc3QgYmFzZTY0ID0gYnRvYShTdHJpbmcuZnJvbUNoYXJDb2RlLmFwcGx5KG51bGwsIGNodW5rKSk7CiAgICAgIHlpZWxkIHsKICAgICAgICByZXNwb25zZTogewogICAgICAgICAgYWN0aW9uOiAnYXBwZW5kJywKICAgICAgICAgIGZpbGU6IGZpbGUubmFtZSwKICAgICAgICAgIGRhdGE6IGJhc2U2NCwKICAgICAgICB9LAogICAgICB9OwogICAgICBwZXJjZW50LnRleHRDb250ZW50ID0KICAgICAgICAgIGAke01hdGgucm91bmQoKHBvc2l0aW9uIC8gZmlsZURhdGEuYnl0ZUxlbmd0aCkgKiAxMDApfSUgZG9uZWA7CiAgICB9CiAgfQoKICAvLyBBbGwgZG9uZS4KICB5aWVsZCB7CiAgICByZXNwb25zZTogewogICAgICBhY3Rpb246ICdjb21wbGV0ZScsCiAgICB9CiAgfTsKfQoKc2NvcGUuZ29vZ2xlID0gc2NvcGUuZ29vZ2xlIHx8IHt9OwpzY29wZS5nb29nbGUuY29sYWIgPSBzY29wZS5nb29nbGUuY29sYWIgfHwge307CnNjb3BlLmdvb2dsZS5jb2xhYi5fZmlsZXMgPSB7CiAgX3VwbG9hZEZpbGVzLAogIF91cGxvYWRGaWxlc0NvbnRpbnVlLAp9Owp9KShzZWxmKTsK",
              "ok": true,
              "headers": [
                [
                  "content-type",
                  "application/javascript"
                ]
              ],
              "status": 200,
              "status_text": ""
            }
          },
          "base_uri": "https://localhost:8080/",
          "height": 73
        },
        "id": "-YnBBWBaCkWp",
        "outputId": "545769ef-50ff-4651-9d1e-f838f058d309"
      },
      "source": [
        "from google.colab import files\n",
        "uploaded = files.upload()"
      ],
      "execution_count": null,
      "outputs": [
        {
          "output_type": "display_data",
          "data": {
            "text/html": [
              "\n",
              "     <input type=\"file\" id=\"files-3a009ca6-f13b-4442-9216-1c17a1ee5679\" name=\"files[]\" multiple disabled\n",
              "        style=\"border:none\" />\n",
              "     <output id=\"result-3a009ca6-f13b-4442-9216-1c17a1ee5679\">\n",
              "      Upload widget is only available when the cell has been executed in the\n",
              "      current browser session. Please rerun this cell to enable.\n",
              "      </output>\n",
              "      <script src=\"/nbextensions/google.colab/files.js\"></script> "
            ],
            "text/plain": [
              "<IPython.core.display.HTML object>"
            ]
          },
          "metadata": {
            "tags": []
          }
        },
        {
          "output_type": "stream",
          "text": [
            "Saving GastoMidia2.xls to GastoMidia2.xls\n"
          ],
          "name": "stdout"
        }
      ]
    },
    {
      "cell_type": "code",
      "metadata": {
        "colab": {
          "base_uri": "https://localhost:8080/",
          "height": 417
        },
        "id": "xU_-r9J2DY8L",
        "outputId": "b294cb4b-963f-43b2-f5de-e8413646c305"
      },
      "source": [
        "import io\n",
        "df2 = pd.read_excel(io.BytesIO(uploaded['GastoMidia2.xls']))\n",
        "df2"
      ],
      "execution_count": null,
      "outputs": [
        {
          "output_type": "execute_result",
          "data": {
            "text/html": [
              "<div>\n",
              "<style scoped>\n",
              "    .dataframe tbody tr th:only-of-type {\n",
              "        vertical-align: middle;\n",
              "    }\n",
              "\n",
              "    .dataframe tbody tr th {\n",
              "        vertical-align: top;\n",
              "    }\n",
              "\n",
              "    .dataframe thead th {\n",
              "        text-align: right;\n",
              "    }\n",
              "</style>\n",
              "<table border=\"1\" class=\"dataframe\">\n",
              "  <thead>\n",
              "    <tr style=\"text-align: right;\">\n",
              "      <th></th>\n",
              "      <th>Dia</th>\n",
              "      <th>Facebook Ads</th>\n",
              "      <th>Google Ads</th>\n",
              "    </tr>\n",
              "  </thead>\n",
              "  <tbody>\n",
              "    <tr>\n",
              "      <th>0</th>\n",
              "      <td>2020-01-01</td>\n",
              "      <td>NaN</td>\n",
              "      <td>987.46</td>\n",
              "    </tr>\n",
              "    <tr>\n",
              "      <th>1</th>\n",
              "      <td>2020-01-02</td>\n",
              "      <td>NaN</td>\n",
              "      <td>1165.32</td>\n",
              "    </tr>\n",
              "    <tr>\n",
              "      <th>2</th>\n",
              "      <td>2020-01-03</td>\n",
              "      <td>NaN</td>\n",
              "      <td>876.76</td>\n",
              "    </tr>\n",
              "    <tr>\n",
              "      <th>3</th>\n",
              "      <td>2020-01-04</td>\n",
              "      <td>NaN</td>\n",
              "      <td>804.85</td>\n",
              "    </tr>\n",
              "    <tr>\n",
              "      <th>4</th>\n",
              "      <td>2020-01-05</td>\n",
              "      <td>NaN</td>\n",
              "      <td>899.13</td>\n",
              "    </tr>\n",
              "    <tr>\n",
              "      <th>...</th>\n",
              "      <td>...</td>\n",
              "      <td>...</td>\n",
              "      <td>...</td>\n",
              "    </tr>\n",
              "    <tr>\n",
              "      <th>451</th>\n",
              "      <td>2021-03-27</td>\n",
              "      <td>350.57</td>\n",
              "      <td>778.54</td>\n",
              "    </tr>\n",
              "    <tr>\n",
              "      <th>452</th>\n",
              "      <td>2021-03-28</td>\n",
              "      <td>371.65</td>\n",
              "      <td>994.93</td>\n",
              "    </tr>\n",
              "    <tr>\n",
              "      <th>453</th>\n",
              "      <td>2021-03-29</td>\n",
              "      <td>306.72</td>\n",
              "      <td>894.11</td>\n",
              "    </tr>\n",
              "    <tr>\n",
              "      <th>454</th>\n",
              "      <td>2021-03-30</td>\n",
              "      <td>303.54</td>\n",
              "      <td>651.89</td>\n",
              "    </tr>\n",
              "    <tr>\n",
              "      <th>455</th>\n",
              "      <td>2021-03-31</td>\n",
              "      <td>333.58</td>\n",
              "      <td>611.09</td>\n",
              "    </tr>\n",
              "  </tbody>\n",
              "</table>\n",
              "<p>456 rows × 3 columns</p>\n",
              "</div>"
            ],
            "text/plain": [
              "           Dia  Facebook Ads  Google Ads\n",
              "0   2020-01-01           NaN      987.46\n",
              "1   2020-01-02           NaN     1165.32\n",
              "2   2020-01-03           NaN      876.76\n",
              "3   2020-01-04           NaN      804.85\n",
              "4   2020-01-05           NaN      899.13\n",
              "..         ...           ...         ...\n",
              "451 2021-03-27        350.57      778.54\n",
              "452 2021-03-28        371.65      994.93\n",
              "453 2021-03-29        306.72      894.11\n",
              "454 2021-03-30        303.54      651.89\n",
              "455 2021-03-31        333.58      611.09\n",
              "\n",
              "[456 rows x 3 columns]"
            ]
          },
          "metadata": {
            "tags": []
          },
          "execution_count": 36
        }
      ]
    },
    {
      "cell_type": "markdown",
      "metadata": {
        "id": "4tAfylnifXik"
      },
      "source": [
        "# Pedidos dos Clientes ##\n"
      ]
    },
    {
      "cell_type": "markdown",
      "metadata": {
        "id": "k4G8dbUPtOWB"
      },
      "source": [
        "# Análise #\n",
        "\n",
        "## Receita e margem de cliente em cada canal ##\n",
        "\n",
        "\n"
      ]
    },
    {
      "cell_type": "code",
      "metadata": {
        "colab": {
          "base_uri": "https://localhost:8080/"
        },
        "id": "AQR2LaMVu_R4",
        "outputId": "3a4ff648-751b-4cf1-f7e2-3c30fa52e4ab"
      },
      "source": [
        "df5.info()"
      ],
      "execution_count": null,
      "outputs": [
        {
          "output_type": "stream",
          "text": [
            "<class 'pandas.core.frame.DataFrame'>\n",
            "Int64Index: 296937 entries, 0 to 296936\n",
            "Data columns (total 14 columns):\n",
            " #   Column              Non-Null Count   Dtype  \n",
            "---  ------              --------------   -----  \n",
            " 0   DATA_VENDA          296937 non-null  object \n",
            " 1   PEDIDO              296937 non-null  int64  \n",
            " 2   PEDIDO_ERP          296937 non-null  object \n",
            " 3   COD_CLIENTE         296937 non-null  int64  \n",
            " 4   PRODUTO             296937 non-null  object \n",
            " 5   QTDE                296937 non-null  int64  \n",
            " 6   PRECO_UNITARIO      296937 non-null  float64\n",
            " 7   DESCONTO_ITEM       296937 non-null  float64\n",
            " 8   FRETE_PAGO_CLIENTE  296937 non-null  float64\n",
            " 9   RECEITA             296937 non-null  float64\n",
            " 10  CUSTO_FRETE         296937 non-null  float64\n",
            " 11  CANAL_MARKETING     255684 non-null  object \n",
            " 12  CUSTO_MERCADORIA    296937 non-null  float64\n",
            " 13  LINHA_PRODUTO       290281 non-null  object \n",
            "dtypes: float64(6), int64(3), object(5)\n",
            "memory usage: 34.0+ MB\n"
          ],
          "name": "stdout"
        }
      ]
    },
    {
      "cell_type": "code",
      "metadata": {
        "colab": {
          "base_uri": "https://localhost:8080/",
          "height": 605
        },
        "id": "ZHnApvc401cc",
        "outputId": "b916f48b-043e-4d8c-fef6-b00c8bbbde85"
      },
      "source": [
        "df5.sort_values('MARGEM', ascending=False)"
      ],
      "execution_count": null,
      "outputs": [
        {
          "output_type": "execute_result",
          "data": {
            "text/html": [
              "<div>\n",
              "<style scoped>\n",
              "    .dataframe tbody tr th:only-of-type {\n",
              "        vertical-align: middle;\n",
              "    }\n",
              "\n",
              "    .dataframe tbody tr th {\n",
              "        vertical-align: top;\n",
              "    }\n",
              "\n",
              "    .dataframe thead th {\n",
              "        text-align: right;\n",
              "    }\n",
              "</style>\n",
              "<table border=\"1\" class=\"dataframe\">\n",
              "  <thead>\n",
              "    <tr style=\"text-align: right;\">\n",
              "      <th></th>\n",
              "      <th>DATA_VENDA</th>\n",
              "      <th>PEDIDO</th>\n",
              "      <th>PEDIDO_ERP</th>\n",
              "      <th>COD_CLIENTE</th>\n",
              "      <th>PRODUTO</th>\n",
              "      <th>QTDE</th>\n",
              "      <th>PRECO_UNITARIO</th>\n",
              "      <th>DESCONTO_ITEM</th>\n",
              "      <th>FRETE_PAGO_CLIENTE</th>\n",
              "      <th>RECEITA</th>\n",
              "      <th>CUSTO_FRETE</th>\n",
              "      <th>CANAL_MARKETING</th>\n",
              "      <th>CUSTO_MERCADORIA</th>\n",
              "      <th>LINHA_PRODUTO</th>\n",
              "      <th>MARGEM</th>\n",
              "    </tr>\n",
              "  </thead>\n",
              "  <tbody>\n",
              "    <tr>\n",
              "      <th>261993</th>\n",
              "      <td>2020-11-27 00:00:00.000000</td>\n",
              "      <td>7133102</td>\n",
              "      <td>P10000255665</td>\n",
              "      <td>4094103</td>\n",
              "      <td>E10682Y</td>\n",
              "      <td>89</td>\n",
              "      <td>89.9</td>\n",
              "      <td>0.0</td>\n",
              "      <td>0.00</td>\n",
              "      <td>8001.10</td>\n",
              "      <td>11.69</td>\n",
              "      <td>NaN</td>\n",
              "      <td>24.19</td>\n",
              "      <td>BOLSAS</td>\n",
              "      <td>222.996098</td>\n",
              "    </tr>\n",
              "    <tr>\n",
              "      <th>125581</th>\n",
              "      <td>2020-05-07 00:00:00.000000</td>\n",
              "      <td>7027332</td>\n",
              "      <td>P10000150018</td>\n",
              "      <td>4121271</td>\n",
              "      <td>E10047Y</td>\n",
              "      <td>45</td>\n",
              "      <td>59.9</td>\n",
              "      <td>-135.0</td>\n",
              "      <td>0.00</td>\n",
              "      <td>2560.50</td>\n",
              "      <td>7.79</td>\n",
              "      <td>Direto</td>\n",
              "      <td>11.65</td>\n",
              "      <td>BASICO</td>\n",
              "      <td>131.712963</td>\n",
              "    </tr>\n",
              "    <tr>\n",
              "      <th>125872</th>\n",
              "      <td>2020-09-22 00:00:00.000000</td>\n",
              "      <td>7098455</td>\n",
              "      <td>P10000220969</td>\n",
              "      <td>4050562</td>\n",
              "      <td>E10047Y</td>\n",
              "      <td>41</td>\n",
              "      <td>59.9</td>\n",
              "      <td>0.0</td>\n",
              "      <td>0.00</td>\n",
              "      <td>2455.90</td>\n",
              "      <td>7.79</td>\n",
              "      <td>Google Ads</td>\n",
              "      <td>11.65</td>\n",
              "      <td>BASICO</td>\n",
              "      <td>126.332305</td>\n",
              "    </tr>\n",
              "    <tr>\n",
              "      <th>71134</th>\n",
              "      <td>2020-11-21 00:00:00.000000</td>\n",
              "      <td>7124953</td>\n",
              "      <td>P10000247493</td>\n",
              "      <td>4120248</td>\n",
              "      <td>E10490Y</td>\n",
              "      <td>50</td>\n",
              "      <td>59.9</td>\n",
              "      <td>0.0</td>\n",
              "      <td>0.00</td>\n",
              "      <td>2995.00</td>\n",
              "      <td>7.79</td>\n",
              "      <td>Google Ads</td>\n",
              "      <td>16.13</td>\n",
              "      <td>FASHION</td>\n",
              "      <td>125.209030</td>\n",
              "    </tr>\n",
              "    <tr>\n",
              "      <th>27842</th>\n",
              "      <td>2020-12-06 00:00:00.000000</td>\n",
              "      <td>7140966</td>\n",
              "      <td>P10000263429</td>\n",
              "      <td>4045342</td>\n",
              "      <td>E10203Y</td>\n",
              "      <td>20</td>\n",
              "      <td>29.9</td>\n",
              "      <td>0.0</td>\n",
              "      <td>0.00</td>\n",
              "      <td>598.00</td>\n",
              "      <td>0.00</td>\n",
              "      <td>Google Ads</td>\n",
              "      <td>4.86</td>\n",
              "      <td>BASICO</td>\n",
              "      <td>123.045267</td>\n",
              "    </tr>\n",
              "    <tr>\n",
              "      <th>...</th>\n",
              "      <td>...</td>\n",
              "      <td>...</td>\n",
              "      <td>...</td>\n",
              "      <td>...</td>\n",
              "      <td>...</td>\n",
              "      <td>...</td>\n",
              "      <td>...</td>\n",
              "      <td>...</td>\n",
              "      <td>...</td>\n",
              "      <td>...</td>\n",
              "      <td>...</td>\n",
              "      <td>...</td>\n",
              "      <td>...</td>\n",
              "      <td>...</td>\n",
              "      <td>...</td>\n",
              "    </tr>\n",
              "    <tr>\n",
              "      <th>47036</th>\n",
              "      <td>2020-05-14 00:00:00.000000</td>\n",
              "      <td>7032569</td>\n",
              "      <td>P10000155281</td>\n",
              "      <td>4029988</td>\n",
              "      <td>E10470Y</td>\n",
              "      <td>1</td>\n",
              "      <td>99.9</td>\n",
              "      <td>-99.9</td>\n",
              "      <td>2.14</td>\n",
              "      <td>2.14</td>\n",
              "      <td>2.14</td>\n",
              "      <td>Outros</td>\n",
              "      <td>23.33</td>\n",
              "      <td>BASICO</td>\n",
              "      <td>0.084020</td>\n",
              "    </tr>\n",
              "    <tr>\n",
              "      <th>47483</th>\n",
              "      <td>2020-07-16 00:00:00.000000</td>\n",
              "      <td>7075615</td>\n",
              "      <td>P10000198163</td>\n",
              "      <td>4118190</td>\n",
              "      <td>E10470Y</td>\n",
              "      <td>1</td>\n",
              "      <td>99.9</td>\n",
              "      <td>-99.9</td>\n",
              "      <td>2.05</td>\n",
              "      <td>2.05</td>\n",
              "      <td>2.05</td>\n",
              "      <td>NaN</td>\n",
              "      <td>23.33</td>\n",
              "      <td>BASICO</td>\n",
              "      <td>0.080772</td>\n",
              "    </tr>\n",
              "    <tr>\n",
              "      <th>46920</th>\n",
              "      <td>2020-05-03 00:00:00.000000</td>\n",
              "      <td>7023577</td>\n",
              "      <td>P10000146276</td>\n",
              "      <td>4033630</td>\n",
              "      <td>E10470Y</td>\n",
              "      <td>1</td>\n",
              "      <td>99.9</td>\n",
              "      <td>-99.9</td>\n",
              "      <td>2.01</td>\n",
              "      <td>2.01</td>\n",
              "      <td>2.01</td>\n",
              "      <td>Google Ads</td>\n",
              "      <td>23.33</td>\n",
              "      <td>BASICO</td>\n",
              "      <td>0.079321</td>\n",
              "    </tr>\n",
              "    <tr>\n",
              "      <th>280754</th>\n",
              "      <td>2021-01-20 00:00:00.000000</td>\n",
              "      <td>7160956</td>\n",
              "      <td>P10000283295</td>\n",
              "      <td>4097858</td>\n",
              "      <td>E10717Y</td>\n",
              "      <td>1</td>\n",
              "      <td>159.9</td>\n",
              "      <td>-159.9</td>\n",
              "      <td>1.84</td>\n",
              "      <td>1.84</td>\n",
              "      <td>1.84</td>\n",
              "      <td>Direto</td>\n",
              "      <td>26.17</td>\n",
              "      <td>ACESSORIOS</td>\n",
              "      <td>0.065691</td>\n",
              "    </tr>\n",
              "    <tr>\n",
              "      <th>47460</th>\n",
              "      <td>2020-07-15 00:00:00.000000</td>\n",
              "      <td>7075257</td>\n",
              "      <td>P10000197776</td>\n",
              "      <td>4113166</td>\n",
              "      <td>E10470Y</td>\n",
              "      <td>1</td>\n",
              "      <td>99.9</td>\n",
              "      <td>-99.9</td>\n",
              "      <td>1.43</td>\n",
              "      <td>1.43</td>\n",
              "      <td>1.43</td>\n",
              "      <td>Google Ads</td>\n",
              "      <td>23.33</td>\n",
              "      <td>BASICO</td>\n",
              "      <td>0.057754</td>\n",
              "    </tr>\n",
              "  </tbody>\n",
              "</table>\n",
              "<p>296937 rows × 15 columns</p>\n",
              "</div>"
            ],
            "text/plain": [
              "                        DATA_VENDA   PEDIDO  ... LINHA_PRODUTO      MARGEM\n",
              "261993  2020-11-27 00:00:00.000000  7133102  ...        BOLSAS  222.996098\n",
              "125581  2020-05-07 00:00:00.000000  7027332  ...        BASICO  131.712963\n",
              "125872  2020-09-22 00:00:00.000000  7098455  ...        BASICO  126.332305\n",
              "71134   2020-11-21 00:00:00.000000  7124953  ...       FASHION  125.209030\n",
              "27842   2020-12-06 00:00:00.000000  7140966  ...        BASICO  123.045267\n",
              "...                            ...      ...  ...           ...         ...\n",
              "47036   2020-05-14 00:00:00.000000  7032569  ...        BASICO    0.084020\n",
              "47483   2020-07-16 00:00:00.000000  7075615  ...        BASICO    0.080772\n",
              "46920   2020-05-03 00:00:00.000000  7023577  ...        BASICO    0.079321\n",
              "280754  2021-01-20 00:00:00.000000  7160956  ...    ACESSORIOS    0.065691\n",
              "47460   2020-07-15 00:00:00.000000  7075257  ...        BASICO    0.057754\n",
              "\n",
              "[296937 rows x 15 columns]"
            ]
          },
          "metadata": {
            "tags": []
          },
          "execution_count": 51
        }
      ]
    },
    {
      "cell_type": "markdown",
      "metadata": {
        "id": "kAEfnXry_fwJ"
      },
      "source": [
        "# Visão Geral #\n",
        "\n",
        "Foi percebido um aumento substancial das vendas no e-commerce no\n",
        "segundo trimestre de 2020. Analise a evolução do faturamento ao longo\n",
        "dos meses.\n",
        "\n",
        "\n",
        "1. A fim de encontrar a evolução do faturamento ao longo dos meses, vamos plotar um gráfico com o valor da receita (soma diária) ao longo do tempo"
      ]
    },
    {
      "cell_type": "code",
      "metadata": {
        "colab": {
          "base_uri": "https://localhost:8080/"
        },
        "id": "ncW3k3YsALWj",
        "outputId": "77fbc4fe-4c0b-4653-9f66-ab382157d313"
      },
      "source": [
        "# Preparando os dados -> Convertendo o formato das datas\n",
        "\n",
        "# Convertendo as datas do DF para o formato de datas\n",
        "datetimes =  pd.to_datetime(df5['DATA_VENDA'])\n",
        "df5['DATA_VENDA'] = datetimes\n",
        "df5.info()"
      ],
      "execution_count": null,
      "outputs": [
        {
          "output_type": "stream",
          "text": [
            "<class 'pandas.core.frame.DataFrame'>\n",
            "Int64Index: 296937 entries, 0 to 296936\n",
            "Data columns (total 15 columns):\n",
            " #   Column              Non-Null Count   Dtype         \n",
            "---  ------              --------------   -----         \n",
            " 0   DATA_VENDA          296937 non-null  datetime64[ns]\n",
            " 1   PEDIDO              296937 non-null  int64         \n",
            " 2   PEDIDO_ERP          296937 non-null  object        \n",
            " 3   COD_CLIENTE         296937 non-null  int64         \n",
            " 4   PRODUTO             296937 non-null  object        \n",
            " 5   QTDE                296937 non-null  int64         \n",
            " 6   PRECO_UNITARIO      296937 non-null  float64       \n",
            " 7   DESCONTO_ITEM       296937 non-null  float64       \n",
            " 8   FRETE_PAGO_CLIENTE  296937 non-null  float64       \n",
            " 9   RECEITA             296937 non-null  float64       \n",
            " 10  CUSTO_FRETE         296937 non-null  float64       \n",
            " 11  CANAL_MARKETING     255684 non-null  object        \n",
            " 12  CUSTO_MERCADORIA    296937 non-null  float64       \n",
            " 13  LINHA_PRODUTO       290281 non-null  object        \n",
            " 14  MARGEM              296937 non-null  float64       \n",
            "dtypes: datetime64[ns](1), float64(7), int64(3), object(4)\n",
            "memory usage: 36.2+ MB\n"
          ],
          "name": "stdout"
        }
      ]
    },
    {
      "cell_type": "code",
      "metadata": {
        "colab": {
          "base_uri": "https://localhost:8080/",
          "height": 223
        },
        "id": "UzdS7mmoA9QP",
        "outputId": "09e2721c-2d33-4a23-97ba-fa4dd0103458"
      },
      "source": [
        "df5.head()"
      ],
      "execution_count": null,
      "outputs": [
        {
          "output_type": "execute_result",
          "data": {
            "text/html": [
              "<div>\n",
              "<style scoped>\n",
              "    .dataframe tbody tr th:only-of-type {\n",
              "        vertical-align: middle;\n",
              "    }\n",
              "\n",
              "    .dataframe tbody tr th {\n",
              "        vertical-align: top;\n",
              "    }\n",
              "\n",
              "    .dataframe thead th {\n",
              "        text-align: right;\n",
              "    }\n",
              "</style>\n",
              "<table border=\"1\" class=\"dataframe\">\n",
              "  <thead>\n",
              "    <tr style=\"text-align: right;\">\n",
              "      <th></th>\n",
              "      <th>DATA_VENDA</th>\n",
              "      <th>PEDIDO</th>\n",
              "      <th>PEDIDO_ERP</th>\n",
              "      <th>COD_CLIENTE</th>\n",
              "      <th>PRODUTO</th>\n",
              "      <th>QTDE</th>\n",
              "      <th>PRECO_UNITARIO</th>\n",
              "      <th>DESCONTO_ITEM</th>\n",
              "      <th>FRETE_PAGO_CLIENTE</th>\n",
              "      <th>RECEITA</th>\n",
              "      <th>CUSTO_FRETE</th>\n",
              "      <th>CANAL_MARKETING</th>\n",
              "      <th>CUSTO_MERCADORIA</th>\n",
              "      <th>LINHA_PRODUTO</th>\n",
              "      <th>MARGEM</th>\n",
              "    </tr>\n",
              "  </thead>\n",
              "  <tbody>\n",
              "    <tr>\n",
              "      <th>0</th>\n",
              "      <td>2020-01-01</td>\n",
              "      <td>7000001</td>\n",
              "      <td>P10000123123</td>\n",
              "      <td>4040690</td>\n",
              "      <td>E10505Y</td>\n",
              "      <td>1</td>\n",
              "      <td>149.9</td>\n",
              "      <td>0.0</td>\n",
              "      <td>32.32</td>\n",
              "      <td>182.22</td>\n",
              "      <td>32.32</td>\n",
              "      <td>Google Ads</td>\n",
              "      <td>45.1</td>\n",
              "      <td>ACESSORIOS</td>\n",
              "      <td>2.353655</td>\n",
              "    </tr>\n",
              "    <tr>\n",
              "      <th>1</th>\n",
              "      <td>2020-01-03</td>\n",
              "      <td>7000241</td>\n",
              "      <td>P10000123366</td>\n",
              "      <td>4107070</td>\n",
              "      <td>E10505Y</td>\n",
              "      <td>1</td>\n",
              "      <td>149.9</td>\n",
              "      <td>0.0</td>\n",
              "      <td>18.57</td>\n",
              "      <td>168.47</td>\n",
              "      <td>18.57</td>\n",
              "      <td>Busca orgânica</td>\n",
              "      <td>45.1</td>\n",
              "      <td>ACESSORIOS</td>\n",
              "      <td>2.645987</td>\n",
              "    </tr>\n",
              "    <tr>\n",
              "      <th>2</th>\n",
              "      <td>2020-01-07</td>\n",
              "      <td>7000720</td>\n",
              "      <td>P10000123827</td>\n",
              "      <td>4119511</td>\n",
              "      <td>E10505Y</td>\n",
              "      <td>1</td>\n",
              "      <td>149.9</td>\n",
              "      <td>0.0</td>\n",
              "      <td>0.00</td>\n",
              "      <td>149.90</td>\n",
              "      <td>0.00</td>\n",
              "      <td>Direto</td>\n",
              "      <td>45.1</td>\n",
              "      <td>ACESSORIOS</td>\n",
              "      <td>3.323725</td>\n",
              "    </tr>\n",
              "    <tr>\n",
              "      <th>3</th>\n",
              "      <td>2020-01-08</td>\n",
              "      <td>7000850</td>\n",
              "      <td>P10000123964</td>\n",
              "      <td>4120650</td>\n",
              "      <td>E10505Y</td>\n",
              "      <td>1</td>\n",
              "      <td>149.9</td>\n",
              "      <td>0.0</td>\n",
              "      <td>0.00</td>\n",
              "      <td>149.90</td>\n",
              "      <td>19.49</td>\n",
              "      <td>Google Ads</td>\n",
              "      <td>45.1</td>\n",
              "      <td>ACESSORIOS</td>\n",
              "      <td>2.320793</td>\n",
              "    </tr>\n",
              "    <tr>\n",
              "      <th>4</th>\n",
              "      <td>2020-01-08</td>\n",
              "      <td>7000965</td>\n",
              "      <td>P10000124072</td>\n",
              "      <td>4100635</td>\n",
              "      <td>E10505Y</td>\n",
              "      <td>1</td>\n",
              "      <td>149.9</td>\n",
              "      <td>0.0</td>\n",
              "      <td>0.00</td>\n",
              "      <td>149.90</td>\n",
              "      <td>19.49</td>\n",
              "      <td>Direto</td>\n",
              "      <td>45.1</td>\n",
              "      <td>ACESSORIOS</td>\n",
              "      <td>2.320793</td>\n",
              "    </tr>\n",
              "  </tbody>\n",
              "</table>\n",
              "</div>"
            ],
            "text/plain": [
              "  DATA_VENDA   PEDIDO    PEDIDO_ERP  ...  CUSTO_MERCADORIA LINHA_PRODUTO    MARGEM\n",
              "0 2020-01-01  7000001  P10000123123  ...              45.1    ACESSORIOS  2.353655\n",
              "1 2020-01-03  7000241  P10000123366  ...              45.1    ACESSORIOS  2.645987\n",
              "2 2020-01-07  7000720  P10000123827  ...              45.1    ACESSORIOS  3.323725\n",
              "3 2020-01-08  7000850  P10000123964  ...              45.1    ACESSORIOS  2.320793\n",
              "4 2020-01-08  7000965  P10000124072  ...              45.1    ACESSORIOS  2.320793\n",
              "\n",
              "[5 rows x 15 columns]"
            ]
          },
          "metadata": {
            "tags": []
          },
          "execution_count": 56
        }
      ]
    },
    {
      "cell_type": "code",
      "metadata": {
        "colab": {
          "base_uri": "https://localhost:8080/"
        },
        "id": "mqn4MPk_BHii",
        "outputId": "9b06abad-94d4-4a4e-a193-ef704235b50b"
      },
      "source": [
        "# Agrupando a soma de Receita total por dia\n",
        "dayrevenue = df5.groupby('DATA_VENDA')['RECEITA'].sum()\n",
        "print(dayrevenue)"
      ],
      "execution_count": null,
      "outputs": [
        {
          "output_type": "stream",
          "text": [
            "DATA_VENDA\n",
            "2020-01-01     9826.02\n",
            "2020-01-02    22666.51\n",
            "2020-01-03    20889.51\n",
            "2020-01-04    20535.24\n",
            "2020-01-05    19199.23\n",
            "                ...   \n",
            "2021-03-06    30154.23\n",
            "2021-03-07    38217.02\n",
            "2021-03-08    47852.48\n",
            "2021-03-09    52287.29\n",
            "2021-03-10    44394.82\n",
            "Name: RECEITA, Length: 435, dtype: float64\n"
          ],
          "name": "stdout"
        }
      ]
    },
    {
      "cell_type": "code",
      "metadata": {
        "colab": {
          "base_uri": "https://localhost:8080/",
          "height": 359
        },
        "id": "HoZvmXVbCCeJ",
        "outputId": "2c0fecad-8f4a-42b6-d293-749deeafa791"
      },
      "source": [
        "# Plotando o gráfico do faturamento total por dia em função do tempo\n",
        "print('\\n ---> Valor do faturamento ao longo do tempo \\n')\n",
        "dayrevenue.plot()"
      ],
      "execution_count": null,
      "outputs": [
        {
          "output_type": "stream",
          "text": [
            "\n",
            " ---> Valor do faturamento ao longo do tempo \n",
            "\n"
          ],
          "name": "stdout"
        },
        {
          "output_type": "execute_result",
          "data": {
            "text/plain": [
              "<matplotlib.axes._subplots.AxesSubplot at 0x7f4d4ea1de50>"
            ]
          },
          "metadata": {
            "tags": []
          },
          "execution_count": 61
        },
        {
          "output_type": "display_data",
          "data": {
            "image/png": "[encoded data removed]",
            "text/plain": [
              "<Figure size 432x288 with 1 Axes>"
            ]
          },
          "metadata": {
            "tags": [],
            "needs_background": "light"
          }
        }
      ]
    },
    {
      "cell_type": "markdown",
      "metadata": {
        "id": "Vxx2Qo0BCjFh"
      },
      "source": [
        "## Análise ##\n",
        "\n",
        "Observa-se que há um aumento substancial nas vendas entre a metade do mês de abril até a metade do mês de julho, mas ainda assim há a continuidade de um faturamento acima da média anterior dos meses de julho até meados de setembro.\n",
        "Neste caso, a hipótese apresentada é confirmada. Ao longo do tempo, também é possível notar um aumento no faturamento entre novembro de 2020 e janeiro de 2021.\n",
        "(Causa? -> Compras de final de ano, lançamento de um novo produto)"
      ]
    },
    {
      "cell_type": "markdown",
      "metadata": {
        "id": "MMKo3EdMDR4e"
      },
      "source": [
        "# Novos Clientes #\n",
        "\n",
        "1. Análise do número de clientes ativos mês a mês\n",
        "\n",
        "2. Análise dos canais de marketing"
      ]
    },
    {
      "cell_type": "code",
      "metadata": {
        "colab": {
          "base_uri": "https://localhost:8080/",
          "height": 500
        },
        "id": "bZsFsgpECNKA",
        "outputId": "23e2ab01-d140-41f2-b6db-71ee89971aeb"
      },
      "source": [
        "# Canais de marketing (DF1: Dataframe contendo a origem do tráfego)\n",
        "# Contagem da origem do tráfego por canais de marketing\n",
        "v1 = df1['CANAL_MARKETING'].value_counts()\n",
        "print('\\n --> Contagem da origem de tráfego por canal de marketing \\n')\n",
        "print(v1)\n",
        "# Plot\n",
        "print('\\n --> Gráfico da distribuição \\n')\n",
        "df1.CANAL_MARKETING.value_counts(sort=False).plot.pie()"
      ],
      "execution_count": null,
      "outputs": [
        {
          "output_type": "stream",
          "text": [
            "\n",
            " --> Contagem da origem de tráfego por canal de marketing \n",
            "\n",
            "Google Ads        60935\n",
            "Busca orgânica    28287\n",
            "Direto            17270\n",
            "Facebook Ads      14780\n",
            "Referência        10890\n",
            "Outros            10065\n",
            "Email              9373\n",
            "Name: CANAL_MARKETING, dtype: int64\n",
            "\n",
            " --> Gráfico da distribuição \n",
            "\n"
          ],
          "name": "stdout"
        },
        {
          "output_type": "execute_result",
          "data": {
            "text/plain": [
              "<matplotlib.axes._subplots.AxesSubplot at 0x7f4d5b6656d0>"
            ]
          },
          "metadata": {
            "tags": []
          },
          "execution_count": 65
        },
        {
          "output_type": "display_data",
          "data": {
            "image/png": "[encoded data removed]",
            "text/plain": [
              "<Figure size 432x288 with 1 Axes>"
            ]
          },
          "metadata": {
            "tags": []
          }
        }
      ]
    },
    {
      "cell_type": "markdown",
      "metadata": {
        "id": "-PMC38oNEP2Q"
      },
      "source": [
        "Pelos dados apresentados da origem do tráfego, é possível notar que o canal de marketing que mais gerou acessos na plataforma é o Google Ads, seguido pela busca orgânica\n",
        "\n",
        "Porém, para maior confiabilidade, é necessário avaliar quais desses tráfegos foram convertidos em faturamento real para a empresa.\n",
        "\n",
        "Etapas:\n",
        "1. É necessário \"juntar\" as informações de origem dos visitantes com o valor gasto em cada canal.\n",
        "\n",
        "Então, analisando a base de dados de clientes (SQL)\n"
      ]
    },
    {
      "cell_type": "code",
      "metadata": {
        "colab": {
          "base_uri": "https://localhost:8080/"
        },
        "id": "JsALuGe5fhnD",
        "outputId": "1f8992b2-9ceb-42b1-f134-05f8df8cde1a"
      },
      "source": [
        "# primeiro importamos a função create_engine de sqlalchemy\n",
        "import sqlalchemy\n",
        "\n",
        "# entao criamos a engine passando a string de conexão\n",
        "engine_str = 'sqlite:///vaistore.sqlite'\n",
        "engine = sqlalchemy.create_engine(engine_str)\n",
        "\n",
        "# já temos a engine! Vamos ver as tableas em um DB \n",
        "table_names = sqlalchemy.inspect(engine).get_table_names()\n",
        "print(table_names)"
      ],
      "execution_count": null,
      "outputs": [
        {
          "output_type": "stream",
          "text": [
            "['info_produto', 'pedidos']\n"
          ],
          "name": "stdout"
        }
      ]
    },
    {
      "cell_type": "code",
      "metadata": {
        "colab": {
          "base_uri": "https://localhost:8080/",
          "height": 287
        },
        "id": "qPGTzxM8h0-a",
        "outputId": "9302439b-55a3-41f9-871f-c6a5338a38a6"
      },
      "source": [
        "# utiliza o pandas read_sql_query para ler o resultado da query como dataframe\n",
        "df3 = pd.read_sql_query(\"SELECT * FROM pedidos\", engine)\n",
        "df3.head()\n",
        "# Criado o DF3, contendo os resultados dos pedidos dos clientes"
      ],
      "execution_count": null,
      "outputs": [
        {
          "output_type": "execute_result",
          "data": {
            "text/html": [
              "<div>\n",
              "<style scoped>\n",
              "    .dataframe tbody tr th:only-of-type {\n",
              "        vertical-align: middle;\n",
              "    }\n",
              "\n",
              "    .dataframe tbody tr th {\n",
              "        vertical-align: top;\n",
              "    }\n",
              "\n",
              "    .dataframe thead th {\n",
              "        text-align: right;\n",
              "    }\n",
              "</style>\n",
              "<table border=\"1\" class=\"dataframe\">\n",
              "  <thead>\n",
              "    <tr style=\"text-align: right;\">\n",
              "      <th></th>\n",
              "      <th>DATA_VENDA</th>\n",
              "      <th>PEDIDO</th>\n",
              "      <th>PEDIDO_ERP</th>\n",
              "      <th>COD_CLIENTE</th>\n",
              "      <th>PRODUTO</th>\n",
              "      <th>QTDE</th>\n",
              "      <th>PRECO_UNITARIO</th>\n",
              "      <th>DESCONTO_ITEM</th>\n",
              "      <th>FRETE_PAGO_CLIENTE</th>\n",
              "      <th>RECEITA</th>\n",
              "      <th>CUSTO_FRETE</th>\n",
              "    </tr>\n",
              "  </thead>\n",
              "  <tbody>\n",
              "    <tr>\n",
              "      <th>0</th>\n",
              "      <td>2020-01-01 00:00:00.000000</td>\n",
              "      <td>7000001</td>\n",
              "      <td>P10000123123</td>\n",
              "      <td>4040690</td>\n",
              "      <td>E10505Y</td>\n",
              "      <td>1</td>\n",
              "      <td>149.9</td>\n",
              "      <td>0.00</td>\n",
              "      <td>32.32</td>\n",
              "      <td>182.22</td>\n",
              "      <td>32.32</td>\n",
              "    </tr>\n",
              "    <tr>\n",
              "      <th>1</th>\n",
              "      <td>2020-01-01 00:00:00.000000</td>\n",
              "      <td>7000003</td>\n",
              "      <td>P10000123124</td>\n",
              "      <td>4003939</td>\n",
              "      <td>E10513Y</td>\n",
              "      <td>1</td>\n",
              "      <td>189.9</td>\n",
              "      <td>0.00</td>\n",
              "      <td>0.00</td>\n",
              "      <td>189.90</td>\n",
              "      <td>0.00</td>\n",
              "    </tr>\n",
              "    <tr>\n",
              "      <th>2</th>\n",
              "      <td>2020-01-01 00:00:00.000000</td>\n",
              "      <td>7000006</td>\n",
              "      <td>P10000123128</td>\n",
              "      <td>4043259</td>\n",
              "      <td>E10375Y</td>\n",
              "      <td>1</td>\n",
              "      <td>129.9</td>\n",
              "      <td>-12.99</td>\n",
              "      <td>26.93</td>\n",
              "      <td>143.84</td>\n",
              "      <td>26.93</td>\n",
              "    </tr>\n",
              "    <tr>\n",
              "      <th>3</th>\n",
              "      <td>2020-01-01 00:00:00.000000</td>\n",
              "      <td>7000009</td>\n",
              "      <td>P10000123132</td>\n",
              "      <td>4090303</td>\n",
              "      <td>E10477Y</td>\n",
              "      <td>2</td>\n",
              "      <td>19.9</td>\n",
              "      <td>0.00</td>\n",
              "      <td>0.00</td>\n",
              "      <td>39.80</td>\n",
              "      <td>0.00</td>\n",
              "    </tr>\n",
              "    <tr>\n",
              "      <th>4</th>\n",
              "      <td>2020-01-01 00:00:00.000000</td>\n",
              "      <td>7000011</td>\n",
              "      <td>P10000294585</td>\n",
              "      <td>4080417</td>\n",
              "      <td>E10058Y</td>\n",
              "      <td>1</td>\n",
              "      <td>189.9</td>\n",
              "      <td>1.17</td>\n",
              "      <td>27.57</td>\n",
              "      <td>218.64</td>\n",
              "      <td>27.57</td>\n",
              "    </tr>\n",
              "  </tbody>\n",
              "</table>\n",
              "</div>"
            ],
            "text/plain": [
              "                   DATA_VENDA   PEDIDO  ... RECEITA  CUSTO_FRETE\n",
              "0  2020-01-01 00:00:00.000000  7000001  ...  182.22        32.32\n",
              "1  2020-01-01 00:00:00.000000  7000003  ...  189.90         0.00\n",
              "2  2020-01-01 00:00:00.000000  7000006  ...  143.84        26.93\n",
              "3  2020-01-01 00:00:00.000000  7000009  ...   39.80         0.00\n",
              "4  2020-01-01 00:00:00.000000  7000011  ...  218.64        27.57\n",
              "\n",
              "[5 rows x 11 columns]"
            ]
          },
          "metadata": {
            "tags": []
          },
          "execution_count": 10
        }
      ]
    },
    {
      "cell_type": "code",
      "metadata": {
        "colab": {
          "base_uri": "https://localhost:8080/",
          "height": 203
        },
        "id": "aSB99n6eiAr1",
        "outputId": "79e70d19-ad0b-4b49-99ed-5ffb7e6db2a5"
      },
      "source": [
        "df4 = pd.read_sql_query(\"SELECT * FROM info_produto\", engine)\n",
        "df4.head()\n",
        "# Também criamos o DF4, a partir do arquivo SQL a fim de ter o custo da mercadoria para analises posteriores"
      ],
      "execution_count": null,
      "outputs": [
        {
          "output_type": "execute_result",
          "data": {
            "text/html": [
              "<div>\n",
              "<style scoped>\n",
              "    .dataframe tbody tr th:only-of-type {\n",
              "        vertical-align: middle;\n",
              "    }\n",
              "\n",
              "    .dataframe tbody tr th {\n",
              "        vertical-align: top;\n",
              "    }\n",
              "\n",
              "    .dataframe thead th {\n",
              "        text-align: right;\n",
              "    }\n",
              "</style>\n",
              "<table border=\"1\" class=\"dataframe\">\n",
              "  <thead>\n",
              "    <tr style=\"text-align: right;\">\n",
              "      <th></th>\n",
              "      <th>PRODUTO</th>\n",
              "      <th>CUSTO_MERCADORIA</th>\n",
              "      <th>LINHA_PRODUTO</th>\n",
              "    </tr>\n",
              "  </thead>\n",
              "  <tbody>\n",
              "    <tr>\n",
              "      <th>0</th>\n",
              "      <td>A10001G</td>\n",
              "      <td>21.1</td>\n",
              "      <td>BASICO</td>\n",
              "    </tr>\n",
              "    <tr>\n",
              "      <th>1</th>\n",
              "      <td>A10002M</td>\n",
              "      <td>21.1</td>\n",
              "      <td>BASICO</td>\n",
              "    </tr>\n",
              "    <tr>\n",
              "      <th>2</th>\n",
              "      <td>A10003M</td>\n",
              "      <td>22.6</td>\n",
              "      <td>BASICO</td>\n",
              "    </tr>\n",
              "    <tr>\n",
              "      <th>3</th>\n",
              "      <td>A10004P</td>\n",
              "      <td>22.6</td>\n",
              "      <td>BASICO</td>\n",
              "    </tr>\n",
              "    <tr>\n",
              "      <th>4</th>\n",
              "      <td>A10005M</td>\n",
              "      <td>22.6</td>\n",
              "      <td>BASICO</td>\n",
              "    </tr>\n",
              "  </tbody>\n",
              "</table>\n",
              "</div>"
            ],
            "text/plain": [
              "   PRODUTO  CUSTO_MERCADORIA LINHA_PRODUTO\n",
              "0  A10001G              21.1        BASICO\n",
              "1  A10002M              21.1        BASICO\n",
              "2  A10003M              22.6        BASICO\n",
              "3  A10004P              22.6        BASICO\n",
              "4  A10005M              22.6        BASICO"
            ]
          },
          "metadata": {
            "tags": []
          },
          "execution_count": 11
        }
      ]
    },
    {
      "cell_type": "code",
      "metadata": {
        "colab": {
          "base_uri": "https://localhost:8080/",
          "height": 605
        },
        "id": "-OU3vco8tf_2",
        "outputId": "b372628f-55d2-4dda-9889-b1b07c9b737d"
      },
      "source": [
        "# Criando um novo DF para adicionar a origem de cada venda através do código ERP\n",
        "df5 = pd.merge(df3, df1, how='inner', on='PEDIDO_ERP')\n",
        "\n",
        "# Adicionando o custo de cada produto ao DF5 para depois calcular a margem\n",
        "df5 = pd.merge(df5, df4, how='inner', on='PRODUTO')\n",
        "# Multiplicando o custo pela quantidade de mercadorias\n",
        "df5['CUSTO_MERCADORIA_TOT'] = df5['CUSTO_MERCADORIA'] * df5['QTDE']\n",
        "# Visualização do novo DF com as novas informações para a análise\n",
        "df5.sort_values('QTDE', ascending=False)"
      ],
      "execution_count": null,
      "outputs": [
        {
          "output_type": "execute_result",
          "data": {
            "text/html": [
              "<div>\n",
              "<style scoped>\n",
              "    .dataframe tbody tr th:only-of-type {\n",
              "        vertical-align: middle;\n",
              "    }\n",
              "\n",
              "    .dataframe tbody tr th {\n",
              "        vertical-align: top;\n",
              "    }\n",
              "\n",
              "    .dataframe thead th {\n",
              "        text-align: right;\n",
              "    }\n",
              "</style>\n",
              "<table border=\"1\" class=\"dataframe\">\n",
              "  <thead>\n",
              "    <tr style=\"text-align: right;\">\n",
              "      <th></th>\n",
              "      <th>DATA_VENDA</th>\n",
              "      <th>PEDIDO</th>\n",
              "      <th>PEDIDO_ERP</th>\n",
              "      <th>COD_CLIENTE</th>\n",
              "      <th>PRODUTO</th>\n",
              "      <th>QTDE</th>\n",
              "      <th>PRECO_UNITARIO</th>\n",
              "      <th>DESCONTO_ITEM</th>\n",
              "      <th>FRETE_PAGO_CLIENTE</th>\n",
              "      <th>RECEITA</th>\n",
              "      <th>CUSTO_FRETE</th>\n",
              "      <th>CANAL_MARKETING</th>\n",
              "      <th>CUSTO_MERCADORIA</th>\n",
              "      <th>LINHA_PRODUTO</th>\n",
              "      <th>CUSTO_MERCADORIA_TOT</th>\n",
              "    </tr>\n",
              "  </thead>\n",
              "  <tbody>\n",
              "    <tr>\n",
              "      <th>195950</th>\n",
              "      <td>2020-11-14 00:00:00.000000</td>\n",
              "      <td>7118877</td>\n",
              "      <td>P10000241404</td>\n",
              "      <td>4046694</td>\n",
              "      <td>E10451Y</td>\n",
              "      <td>100</td>\n",
              "      <td>19.9</td>\n",
              "      <td>0.0</td>\n",
              "      <td>0.00</td>\n",
              "      <td>1990.00</td>\n",
              "      <td>2.59</td>\n",
              "      <td>NaN</td>\n",
              "      <td>27.13</td>\n",
              "      <td>BASICO</td>\n",
              "      <td>2713.00</td>\n",
              "    </tr>\n",
              "    <tr>\n",
              "      <th>85532</th>\n",
              "      <td>2020-05-11 00:00:00.000000</td>\n",
              "      <td>7030055</td>\n",
              "      <td>P10000152732</td>\n",
              "      <td>4024278</td>\n",
              "      <td>E10369Y</td>\n",
              "      <td>94</td>\n",
              "      <td>9.9</td>\n",
              "      <td>0.0</td>\n",
              "      <td>0.00</td>\n",
              "      <td>930.60</td>\n",
              "      <td>1.29</td>\n",
              "      <td>Google Ads</td>\n",
              "      <td>17.05</td>\n",
              "      <td>ACESSORIOS</td>\n",
              "      <td>1602.70</td>\n",
              "    </tr>\n",
              "    <tr>\n",
              "      <th>261993</th>\n",
              "      <td>2020-11-27 00:00:00.000000</td>\n",
              "      <td>7133102</td>\n",
              "      <td>P10000255665</td>\n",
              "      <td>4094103</td>\n",
              "      <td>E10682Y</td>\n",
              "      <td>89</td>\n",
              "      <td>89.9</td>\n",
              "      <td>0.0</td>\n",
              "      <td>0.00</td>\n",
              "      <td>8001.10</td>\n",
              "      <td>11.69</td>\n",
              "      <td>NaN</td>\n",
              "      <td>24.19</td>\n",
              "      <td>BOLSAS</td>\n",
              "      <td>2152.91</td>\n",
              "    </tr>\n",
              "    <tr>\n",
              "      <th>169715</th>\n",
              "      <td>2020-11-02 00:00:00.000000</td>\n",
              "      <td>7109220</td>\n",
              "      <td>P10000231748</td>\n",
              "      <td>4055110</td>\n",
              "      <td>E10394Y</td>\n",
              "      <td>70</td>\n",
              "      <td>9.9</td>\n",
              "      <td>0.0</td>\n",
              "      <td>0.00</td>\n",
              "      <td>693.00</td>\n",
              "      <td>1.29</td>\n",
              "      <td>NaN</td>\n",
              "      <td>8.69</td>\n",
              "      <td>FASHION</td>\n",
              "      <td>608.30</td>\n",
              "    </tr>\n",
              "    <tr>\n",
              "      <th>260914</th>\n",
              "      <td>2020-11-05 00:00:00.000000</td>\n",
              "      <td>7112027</td>\n",
              "      <td>P10000234559</td>\n",
              "      <td>4007735</td>\n",
              "      <td>B10175</td>\n",
              "      <td>63</td>\n",
              "      <td>19.9</td>\n",
              "      <td>0.0</td>\n",
              "      <td>0.00</td>\n",
              "      <td>1253.70</td>\n",
              "      <td>2.59</td>\n",
              "      <td>Google Ads</td>\n",
              "      <td>8.28</td>\n",
              "      <td>FASHION</td>\n",
              "      <td>521.64</td>\n",
              "    </tr>\n",
              "    <tr>\n",
              "      <th>...</th>\n",
              "      <td>...</td>\n",
              "      <td>...</td>\n",
              "      <td>...</td>\n",
              "      <td>...</td>\n",
              "      <td>...</td>\n",
              "      <td>...</td>\n",
              "      <td>...</td>\n",
              "      <td>...</td>\n",
              "      <td>...</td>\n",
              "      <td>...</td>\n",
              "      <td>...</td>\n",
              "      <td>...</td>\n",
              "      <td>...</td>\n",
              "      <td>...</td>\n",
              "      <td>...</td>\n",
              "    </tr>\n",
              "    <tr>\n",
              "      <th>101027</th>\n",
              "      <td>2020-11-23 00:00:00.000000</td>\n",
              "      <td>7127451</td>\n",
              "      <td>P10000249922</td>\n",
              "      <td>4014939</td>\n",
              "      <td>E10547Y</td>\n",
              "      <td>1</td>\n",
              "      <td>39.9</td>\n",
              "      <td>0.0</td>\n",
              "      <td>0.00</td>\n",
              "      <td>39.90</td>\n",
              "      <td>5.19</td>\n",
              "      <td>NaN</td>\n",
              "      <td>12.54</td>\n",
              "      <td>FASHION</td>\n",
              "      <td>12.54</td>\n",
              "    </tr>\n",
              "    <tr>\n",
              "      <th>101028</th>\n",
              "      <td>2020-11-23 00:00:00.000000</td>\n",
              "      <td>7127456</td>\n",
              "      <td>P10000249927</td>\n",
              "      <td>4111033</td>\n",
              "      <td>E10547Y</td>\n",
              "      <td>1</td>\n",
              "      <td>39.9</td>\n",
              "      <td>0.0</td>\n",
              "      <td>12.90</td>\n",
              "      <td>52.80</td>\n",
              "      <td>12.90</td>\n",
              "      <td>Direto</td>\n",
              "      <td>12.54</td>\n",
              "      <td>FASHION</td>\n",
              "      <td>12.54</td>\n",
              "    </tr>\n",
              "    <tr>\n",
              "      <th>101029</th>\n",
              "      <td>2020-11-23 00:00:00.000000</td>\n",
              "      <td>7127457</td>\n",
              "      <td>P10000249928</td>\n",
              "      <td>4037368</td>\n",
              "      <td>E10547Y</td>\n",
              "      <td>1</td>\n",
              "      <td>39.9</td>\n",
              "      <td>0.0</td>\n",
              "      <td>0.00</td>\n",
              "      <td>39.90</td>\n",
              "      <td>0.00</td>\n",
              "      <td>Direto</td>\n",
              "      <td>12.54</td>\n",
              "      <td>FASHION</td>\n",
              "      <td>12.54</td>\n",
              "    </tr>\n",
              "    <tr>\n",
              "      <th>101031</th>\n",
              "      <td>2020-11-23 00:00:00.000000</td>\n",
              "      <td>7127467</td>\n",
              "      <td>P10000249938</td>\n",
              "      <td>4082034</td>\n",
              "      <td>E10547Y</td>\n",
              "      <td>1</td>\n",
              "      <td>39.9</td>\n",
              "      <td>0.0</td>\n",
              "      <td>0.00</td>\n",
              "      <td>39.90</td>\n",
              "      <td>0.00</td>\n",
              "      <td>Email</td>\n",
              "      <td>12.54</td>\n",
              "      <td>FASHION</td>\n",
              "      <td>12.54</td>\n",
              "    </tr>\n",
              "    <tr>\n",
              "      <th>296936</th>\n",
              "      <td>2021-03-10 00:00:00.000000</td>\n",
              "      <td>7171859</td>\n",
              "      <td>P10000293971</td>\n",
              "      <td>4022121</td>\n",
              "      <td>B10091</td>\n",
              "      <td>1</td>\n",
              "      <td>7.9</td>\n",
              "      <td>0.0</td>\n",
              "      <td>15.62</td>\n",
              "      <td>23.52</td>\n",
              "      <td>15.62</td>\n",
              "      <td>NaN</td>\n",
              "      <td>1.57</td>\n",
              "      <td>BASICO</td>\n",
              "      <td>1.57</td>\n",
              "    </tr>\n",
              "  </tbody>\n",
              "</table>\n",
              "<p>296937 rows × 15 columns</p>\n",
              "</div>"
            ],
            "text/plain": [
              "                        DATA_VENDA   PEDIDO  ... LINHA_PRODUTO  CUSTO_MERCADORIA_TOT\n",
              "195950  2020-11-14 00:00:00.000000  7118877  ...        BASICO               2713.00\n",
              "85532   2020-05-11 00:00:00.000000  7030055  ...    ACESSORIOS               1602.70\n",
              "261993  2020-11-27 00:00:00.000000  7133102  ...        BOLSAS               2152.91\n",
              "169715  2020-11-02 00:00:00.000000  7109220  ...       FASHION                608.30\n",
              "260914  2020-11-05 00:00:00.000000  7112027  ...       FASHION                521.64\n",
              "...                            ...      ...  ...           ...                   ...\n",
              "101027  2020-11-23 00:00:00.000000  7127451  ...       FASHION                 12.54\n",
              "101028  2020-11-23 00:00:00.000000  7127456  ...       FASHION                 12.54\n",
              "101029  2020-11-23 00:00:00.000000  7127457  ...       FASHION                 12.54\n",
              "101031  2020-11-23 00:00:00.000000  7127467  ...       FASHION                 12.54\n",
              "296936  2021-03-10 00:00:00.000000  7171859  ...        BASICO                  1.57\n",
              "\n",
              "[296937 rows x 15 columns]"
            ]
          },
          "metadata": {
            "tags": []
          },
          "execution_count": 95
        }
      ]
    },
    {
      "cell_type": "code",
      "metadata": {
        "colab": {
          "base_uri": "https://localhost:8080/"
        },
        "id": "O2dWnCH9vmGK",
        "outputId": "c401431b-1fe8-4400-8daf-d6f0325ba639"
      },
      "source": [
        "# Encontrando os resultados (receitas) de vendas em cada canal\n",
        "print('\\n --> Receita por clientes em cada canal \\n')\n",
        "info = df5.groupby('CANAL_MARKETING')['RECEITA'].sum() \n",
        "print(info)"
      ],
      "execution_count": null,
      "outputs": [
        {
          "output_type": "stream",
          "text": [
            "\n",
            " --> Receita por clientes em cada canal \n",
            "\n",
            "CANAL_MARKETING\n",
            "Busca orgânica    4.722539e+06\n",
            "Direto            2.963370e+06\n",
            "Email             1.773147e+06\n",
            "Facebook Ads      2.251013e+06\n",
            "Google Ads        1.026167e+07\n",
            "Outros            1.581049e+06\n",
            "Referência        1.788930e+06\n",
            "Name: RECEITA, dtype: float64\n"
          ],
          "name": "stdout"
        }
      ]
    },
    {
      "cell_type": "code",
      "metadata": {
        "colab": {
          "base_uri": "https://localhost:8080/",
          "height": 442
        },
        "id": "YfiT4jtAwFGY",
        "outputId": "bad0214b-b268-4e80-b539-ce6068663766"
      },
      "source": [
        "# Receita de cada cliente por canal de marketing \n",
        "print('\\n --> Receita por canal de marketing \\n \\n')\n",
        "info.plot.bar()"
      ],
      "execution_count": null,
      "outputs": [
        {
          "output_type": "stream",
          "text": [
            "\n",
            " --> Receita por canal de marketing \n",
            " \n",
            "\n"
          ],
          "name": "stdout"
        },
        {
          "output_type": "execute_result",
          "data": {
            "text/plain": [
              "<matplotlib.axes._subplots.AxesSubplot at 0x7f4d52a3ac90>"
            ]
          },
          "metadata": {
            "tags": []
          },
          "execution_count": 97
        },
        {
          "output_type": "display_data",
          "data": {
            "image/png": "[encoded data removed]",
            "text/plain": [
              "<Figure size 432x288 with 1 Axes>"
            ]
          },
          "metadata": {
            "tags": [],
            "needs_background": "light"
          }
        }
      ]
    },
    {
      "cell_type": "markdown",
      "metadata": {
        "id": "8ewG90j-GEwn"
      },
      "source": [
        "É possível observar que a maior parte do faturamento vem de clientes que chegaram até a plataforma de venda utilizando o Google Ads\n",
        "\n",
        "-> Para analisar a margem de cada canal, é necessário criar uma coluna com os custos de cada produto em cada pedido\n",
        "\n",
        "Neste caso, a margem é definida como:\n",
        "\n",
        "MARGEM = ( ( RECEITA / (CUSTO MERCADORIA + CUSTO FRETE) -1 ) * 100 "
      ]
    },
    {
      "cell_type": "code",
      "metadata": {
        "colab": {
          "base_uri": "https://localhost:8080/",
          "height": 307
        },
        "id": "5iGhp8-fwljM",
        "outputId": "ae574d3e-84cd-4bef-8ef1-c9edcbea44c2"
      },
      "source": [
        "# Criando uma nova coluna de margem (Recebidos / Pagos) por produto\n",
        "df5['MARGEM_PERCENT'] =( df5['RECEITA'] / (df5['CUSTO_MERCADORIA_TOT'] + df5['CUSTO_FRETE']) -1 )* 100\n",
        "df5.head()"
      ],
      "execution_count": null,
      "outputs": [
        {
          "output_type": "execute_result",
          "data": {
            "text/html": [
              "<div>\n",
              "<style scoped>\n",
              "    .dataframe tbody tr th:only-of-type {\n",
              "        vertical-align: middle;\n",
              "    }\n",
              "\n",
              "    .dataframe tbody tr th {\n",
              "        vertical-align: top;\n",
              "    }\n",
              "\n",
              "    .dataframe thead th {\n",
              "        text-align: right;\n",
              "    }\n",
              "</style>\n",
              "<table border=\"1\" class=\"dataframe\">\n",
              "  <thead>\n",
              "    <tr style=\"text-align: right;\">\n",
              "      <th></th>\n",
              "      <th>DATA_VENDA</th>\n",
              "      <th>PEDIDO</th>\n",
              "      <th>PEDIDO_ERP</th>\n",
              "      <th>COD_CLIENTE</th>\n",
              "      <th>PRODUTO</th>\n",
              "      <th>QTDE</th>\n",
              "      <th>PRECO_UNITARIO</th>\n",
              "      <th>DESCONTO_ITEM</th>\n",
              "      <th>FRETE_PAGO_CLIENTE</th>\n",
              "      <th>RECEITA</th>\n",
              "      <th>CUSTO_FRETE</th>\n",
              "      <th>CANAL_MARKETING</th>\n",
              "      <th>CUSTO_MERCADORIA</th>\n",
              "      <th>LINHA_PRODUTO</th>\n",
              "      <th>CUSTO_MERCADORIA_TOT</th>\n",
              "      <th>MARGEM_PERCENT</th>\n",
              "    </tr>\n",
              "  </thead>\n",
              "  <tbody>\n",
              "    <tr>\n",
              "      <th>0</th>\n",
              "      <td>2020-01-01 00:00:00.000000</td>\n",
              "      <td>7000001</td>\n",
              "      <td>P10000123123</td>\n",
              "      <td>4040690</td>\n",
              "      <td>E10505Y</td>\n",
              "      <td>1</td>\n",
              "      <td>149.9</td>\n",
              "      <td>0.0</td>\n",
              "      <td>32.32</td>\n",
              "      <td>182.22</td>\n",
              "      <td>32.32</td>\n",
              "      <td>Google Ads</td>\n",
              "      <td>45.1</td>\n",
              "      <td>ACESSORIOS</td>\n",
              "      <td>45.1</td>\n",
              "      <td>135.365539</td>\n",
              "    </tr>\n",
              "    <tr>\n",
              "      <th>1</th>\n",
              "      <td>2020-01-03 00:00:00.000000</td>\n",
              "      <td>7000241</td>\n",
              "      <td>P10000123366</td>\n",
              "      <td>4107070</td>\n",
              "      <td>E10505Y</td>\n",
              "      <td>1</td>\n",
              "      <td>149.9</td>\n",
              "      <td>0.0</td>\n",
              "      <td>18.57</td>\n",
              "      <td>168.47</td>\n",
              "      <td>18.57</td>\n",
              "      <td>Busca orgânica</td>\n",
              "      <td>45.1</td>\n",
              "      <td>ACESSORIOS</td>\n",
              "      <td>45.1</td>\n",
              "      <td>164.598712</td>\n",
              "    </tr>\n",
              "    <tr>\n",
              "      <th>2</th>\n",
              "      <td>2020-01-07 00:00:00.000000</td>\n",
              "      <td>7000720</td>\n",
              "      <td>P10000123827</td>\n",
              "      <td>4119511</td>\n",
              "      <td>E10505Y</td>\n",
              "      <td>1</td>\n",
              "      <td>149.9</td>\n",
              "      <td>0.0</td>\n",
              "      <td>0.00</td>\n",
              "      <td>149.90</td>\n",
              "      <td>0.00</td>\n",
              "      <td>Direto</td>\n",
              "      <td>45.1</td>\n",
              "      <td>ACESSORIOS</td>\n",
              "      <td>45.1</td>\n",
              "      <td>232.372506</td>\n",
              "    </tr>\n",
              "    <tr>\n",
              "      <th>3</th>\n",
              "      <td>2020-01-08 00:00:00.000000</td>\n",
              "      <td>7000850</td>\n",
              "      <td>P10000123964</td>\n",
              "      <td>4120650</td>\n",
              "      <td>E10505Y</td>\n",
              "      <td>1</td>\n",
              "      <td>149.9</td>\n",
              "      <td>0.0</td>\n",
              "      <td>0.00</td>\n",
              "      <td>149.90</td>\n",
              "      <td>19.49</td>\n",
              "      <td>Google Ads</td>\n",
              "      <td>45.1</td>\n",
              "      <td>ACESSORIOS</td>\n",
              "      <td>45.1</td>\n",
              "      <td>132.079269</td>\n",
              "    </tr>\n",
              "    <tr>\n",
              "      <th>4</th>\n",
              "      <td>2020-01-08 00:00:00.000000</td>\n",
              "      <td>7000965</td>\n",
              "      <td>P10000124072</td>\n",
              "      <td>4100635</td>\n",
              "      <td>E10505Y</td>\n",
              "      <td>1</td>\n",
              "      <td>149.9</td>\n",
              "      <td>0.0</td>\n",
              "      <td>0.00</td>\n",
              "      <td>149.90</td>\n",
              "      <td>19.49</td>\n",
              "      <td>Direto</td>\n",
              "      <td>45.1</td>\n",
              "      <td>ACESSORIOS</td>\n",
              "      <td>45.1</td>\n",
              "      <td>132.079269</td>\n",
              "    </tr>\n",
              "  </tbody>\n",
              "</table>\n",
              "</div>"
            ],
            "text/plain": [
              "                   DATA_VENDA   PEDIDO  ... CUSTO_MERCADORIA_TOT  MARGEM_PERCENT\n",
              "0  2020-01-01 00:00:00.000000  7000001  ...                 45.1      135.365539\n",
              "1  2020-01-03 00:00:00.000000  7000241  ...                 45.1      164.598712\n",
              "2  2020-01-07 00:00:00.000000  7000720  ...                 45.1      232.372506\n",
              "3  2020-01-08 00:00:00.000000  7000850  ...                 45.1      132.079269\n",
              "4  2020-01-08 00:00:00.000000  7000965  ...                 45.1      132.079269\n",
              "\n",
              "[5 rows x 16 columns]"
            ]
          },
          "metadata": {
            "tags": []
          },
          "execution_count": 98
        }
      ]
    },
    {
      "cell_type": "markdown",
      "metadata": {
        "id": "mbgmIHzUILSX"
      },
      "source": [
        "Então, repetindo a análise dos canaris de marketing porém considerando agora a margem de lucro ao invés do faturamento, temos:"
      ]
    },
    {
      "cell_type": "code",
      "metadata": {
        "colab": {
          "base_uri": "https://localhost:8080/",
          "height": 633
        },
        "id": "nHKiINUUISVn",
        "outputId": "8ff79f60-fd74-4569-90c8-6a92fbae48db"
      },
      "source": [
        "# Margem média de lucros obtida nas vendas através de cada canal\n",
        "print('\\n --> Margem (%) média por clientes em cada canal \\n')\n",
        "info2 = df5.groupby('CANAL_MARKETING')['MARGEM_PERCENT'].mean() \n",
        "print(info)\n",
        "\n",
        "# Margem de cada cliente por canal de marketing \n",
        "print('\\n --> Margem média por canal de marketing \\n \\n')\n",
        "info2.plot.bar()"
      ],
      "execution_count": null,
      "outputs": [
        {
          "output_type": "stream",
          "text": [
            "\n",
            " --> Margem (%) média por clientes em cada canal \n",
            "\n",
            "CANAL_MARKETING\n",
            "Busca orgânica    4.722539e+06\n",
            "Direto            2.963370e+06\n",
            "Email             1.773147e+06\n",
            "Facebook Ads      2.251013e+06\n",
            "Google Ads        1.026167e+07\n",
            "Outros            1.581049e+06\n",
            "Referência        1.788930e+06\n",
            "Name: RECEITA, dtype: float64\n",
            "\n",
            " --> Margem média por canal de marketing \n",
            " \n",
            "\n"
          ],
          "name": "stdout"
        },
        {
          "output_type": "execute_result",
          "data": {
            "text/plain": [
              "<matplotlib.axes._subplots.AxesSubplot at 0x7f4d52b1f890>"
            ]
          },
          "metadata": {
            "tags": []
          },
          "execution_count": 99
        },
        {
          "output_type": "display_data",
          "data": {
            "image/png": "[encoded data removed]",
            "text/plain": [
              "<Figure size 432x288 with 1 Axes>"
            ]
          },
          "metadata": {
            "tags": [],
            "needs_background": "light"
          }
        }
      ]
    },
    {
      "cell_type": "code",
      "metadata": {
        "colab": {
          "base_uri": "https://localhost:8080/"
        },
        "id": "ZzX9bsZTdzlw",
        "outputId": "9a1cdd42-3539-4f2b-ce39-09e59cf8f679"
      },
      "source": [
        "# Análise do gasto com mídia \n",
        "import io\n",
        "df2 = pd.read_excel(io.BytesIO(uploaded['GastoMidia2.xls']))\n",
        "df2.info()\n",
        "\n",
        "totalfacebook = df2['Facebook Ads'].sum()\n",
        "totalgoogle = df2['Google Ads'].sum()\n",
        "print('\\n -> Gasto total com o Facebook Ads:')\n",
        "print(totalfacebook)\n",
        "print('\\n -> Gasto total com o Google Ads:')\n",
        "print(totalgoogle)\n",
        "print('\\n -> Face / Google %:')\n",
        "print((totalfacebook/totalgoogle -1) *100)\n"
      ],
      "execution_count": null,
      "outputs": [
        {
          "output_type": "stream",
          "text": [
            "<class 'pandas.core.frame.DataFrame'>\n",
            "RangeIndex: 456 entries, 0 to 455\n",
            "Data columns (total 3 columns):\n",
            " #   Column        Non-Null Count  Dtype         \n",
            "---  ------        --------------  -----         \n",
            " 0   Dia           456 non-null    datetime64[ns]\n",
            " 1   Facebook Ads  410 non-null    float64       \n",
            " 2   Google Ads    456 non-null    float64       \n",
            "dtypes: datetime64[ns](1), float64(2)\n",
            "memory usage: 10.8 KB\n",
            "\n",
            " -> Gasto total com o Facebook Ads:\n",
            "664579.8999999999\n",
            "\n",
            " -> Gasto total com o Google Ads:\n",
            "368904.08999999997\n",
            "\n",
            " ->Face / Google %:\n",
            "80.14977822555448\n"
          ],
          "name": "stdout"
        }
      ]
    },
    {
      "cell_type": "markdown",
      "metadata": {
        "id": "aQ_9vHw-Iuyq"
      },
      "source": [
        ""
      ]
    },
    {
      "cell_type": "markdown",
      "metadata": {
        "id": "RHxHgOkFIu4h"
      },
      "source": [
        "Nesse caso é possível perceber que a margem média de lucro obtida em cada canal é bastante semelhante sendo, então, o canal de vendas Google Ads o mais rentável para a empresa, considerando que é o canal de vendas com maior participação do faturamento.\n",
        "\n",
        "Porém, ainda cabe a análise do custo do marketing em cada canal: Neste caso, a hipótese apresentada anteriormente é reforçada: Há um custo significativamente maior de anúncios no Facebook Ads (80% a mais de custos) e os resultados obtidos de tráfego são muito menores (cerca de 20% do tráfego total obtido através do Google Ads).\n",
        "\n",
        "Também é possível perceber que a busca orgânica (quando o cliente opta por realizar a busca) representa a 2ª maior parcela de participação no faturamento.\n",
        "\n",
        "O canal Facebook Ads pode apresentar-se como não eficaz na captação de clientes, já que é custoso e oferece um retorno muito baixo quando comparado a outros canais pagos de marketing"
      ]
    },
    {
      "cell_type": "markdown",
      "metadata": {
        "id": "GkWdmknpO6oM"
      },
      "source": [
        "# Recorrência #\n",
        "\n",
        "1. Análise da quantidade de compras por cliente em um determinado periodo"
      ]
    },
    {
      "cell_type": "code",
      "metadata": {
        "colab": {
          "base_uri": "https://localhost:8080/",
          "height": 1000
        },
        "id": "XuUBRSl_ZLI9",
        "outputId": "2213b3aa-9888-4d4c-e8c7-77378ed760a7"
      },
      "source": [
        "# Compras por periodo de tempo\n",
        "print(df5['DATA_VENDA'].min())\n",
        "print(df5['DATA_VENDA'].max())\n",
        "\n",
        "# Dividindo DF em 01/12/2020 (Ações de retenção)\n",
        "import datetime\n",
        "split_date = datetime.date(2020,12,1)\n",
        "\n",
        "df5[\"DATA_VENDA\"]= pd.to_datetime(df5[\"DATA_VENDA\"])\n",
        "\n",
        "antes = df5[df5[\"DATA_VENDA\"].dt.date < split_date]\n",
        "depois = df5[df5[\"DATA_VENDA\"].dt.date >= split_date]\n",
        "# DF com dados de compras antes da data split\n",
        "df10 = antes.groupby('COD_CLIENTE')['DATA_VENDA'].count()\\\n",
        "        .reset_index(name=\"Antes (AVG)\")\n",
        "#df10.sort_values(ascending=False)\n",
        "# DF com dados de compras depois de split date\n",
        "df11 = depois.groupby('COD_CLIENTE')['DATA_VENDA'].count()\\\n",
        "        .reset_index(name=\"Depois (AVG Mensal)\")\n",
        "\n",
        "#df11.sort_values(ascending=False)\n",
        "# Merge com os DFs\n",
        "df12 = pd.merge(df10, df11, on='COD_CLIENTE', how='inner')\n",
        "# Calcula media mensal de vendas por cliente (Tamanho dos Períodos são diferentes)\n",
        "# Período 1: Jan - Nov de 2020: Total de 11 meses completos\n",
        "# Período 2: Dez - Fev 2021: Total 3 meses completos\n",
        "df12['Antes (AVG)'] = df12['Antes (AVG)']/11\n",
        "df12['Depois (AVG Mensal)'] = df12['Depois (AVG Mensal)'] / 3\n",
        "df12['DIFERENÇA'] = df12['Depois (AVG Mensal)'] - df12['Antes (AVG)']\n",
        "df12['DIF%'] = ( df12['Depois (AVG Mensal)'] / df12['Antes (AVG)'] )* 100\n",
        "print('\\n\\n ---> Resultado do DF com média mensal antes e depois do split em 01/12/2020')\n",
        "print(df12)\n",
        "print('\\n\\n A média da quantidade de compras por mês do cliente antes da alteração e depois é de: ')\n",
        "print(df12['DIFERENÇA'].mean())\n",
        "print('\\n\\n Diferença percentual (%) da quantidade de vendas  antes da alteração e depois é de: ')\n",
        "print(df12['DIF%'].mean())\n",
        "\n",
        "# Adicionando coluna idade do cliente (Merge com DF5 que tem os dados)\n",
        "df12 = pd.merge(df12, df5[['DATA_VENDA', 'COD_CLIENTE']], on='COD_CLIENTE', how='inner')\n",
        "df12['TEMPO_CLIENTE'] = datetime.date(2021,3,10) - df12['DATA_VENDA'].dt.date\n",
        "print('\\n\\n --> Adição do tempo do cliente na empresa ')\n",
        "\n",
        "df12['T_CLIENTE_DIAS'] = df12['TEMPO_CLIENTE'] / np.timedelta64(1, 's')\n",
        "df12['T_CLIENTE_DIAS'] = df12['T_CLIENTE_DIAS']/86400\n",
        "del df12['TEMPO_CLIENTE']\n",
        "del df12['DATA_VENDA']\n",
        "df12.info()\n",
        "print('\\n\\n ---> Aumento % das vendas por tempo de cliente na empresa  ')\n",
        "df12.plot.scatter(x='T_CLIENTE_DIAS', y='DIF%')\n"
      ],
      "execution_count": null,
      "outputs": [
        {
          "output_type": "stream",
          "text": [
            "2020-01-01 00:00:00\n",
            "2021-03-10 00:00:00\n",
            "\n",
            "\n",
            " ---> Resultado do DF com média mensal antes e depois do split em 01/12/2020\n",
            "      COD_CLIENTE  Antes (AVG)  Depois (AVG Mensal)  DIFERENÇA        DIF%\n",
            "0         4000039     0.363636             1.666667   1.303030  458.333333\n",
            "1         4000062     0.272727             0.666667   0.393939  244.444444\n",
            "2         4000116     0.363636             1.666667   1.303030  458.333333\n",
            "3         4000174     0.363636             1.666667   1.303030  458.333333\n",
            "4         4000181     0.909091             2.000000   1.090909  220.000000\n",
            "...           ...          ...                  ...        ...         ...\n",
            "4856      4146209     0.181818             1.333333   1.151515  733.333333\n",
            "4857      4146233     0.090909             0.333333   0.242424  366.666667\n",
            "4858      4146241     0.454545             1.000000   0.545455  220.000000\n",
            "4859      4146250     0.181818             1.666667   1.484848  916.666667\n",
            "4860      4146261     0.272727             0.333333   0.060606  122.222222\n",
            "\n",
            "[4861 rows x 5 columns]\n",
            "\n",
            "\n",
            " A média da quantidade de compras por mês do cliente antes da alteração e depois é de: \n",
            "0.48464276586061783\n",
            "\n",
            "\n",
            " Diferença percentual (%) da quantidade de vendas  antes da alteração e depois é de: \n",
            "420.31495637595276\n",
            "\n",
            "\n",
            " --> Adição do tempo do cliente na empresa \n",
            "<class 'pandas.core.frame.DataFrame'>\n",
            "Int64Index: 27225 entries, 0 to 27224\n",
            "Data columns (total 6 columns):\n",
            " #   Column               Non-Null Count  Dtype  \n",
            "---  ------               --------------  -----  \n",
            " 0   COD_CLIENTE          27225 non-null  int64  \n",
            " 1   Antes (AVG)          27225 non-null  float64\n",
            " 2   Depois (AVG Mensal)  27225 non-null  float64\n",
            " 3   DIFERENÇA            27225 non-null  float64\n",
            " 4   DIF%                 27225 non-null  float64\n",
            " 5   T_CLIENTE_DIAS       27225 non-null  float64\n",
            "dtypes: float64(5), int64(1)\n",
            "memory usage: 1.5 MB\n",
            "\n",
            "\n",
            " ---> Aumento % das vendas por tempo de cliente na empresa  \n"
          ],
          "name": "stdout"
        },
        {
          "output_type": "execute_result",
          "data": {
            "text/plain": [
              "<matplotlib.axes._subplots.AxesSubplot at 0x7f4d5bc5e510>"
            ]
          },
          "metadata": {
            "tags": []
          },
          "execution_count": 225
        },
        {
          "output_type": "display_data",
          "data": {
            "image/png": "[encoded data removed]",
            "text/plain": [
              "<Figure size 432x288 with 1 Axes>"
            ]
          },
          "metadata": {
            "tags": [],
            "needs_background": "light"
          }
        }
      ]
    },
    {
      "cell_type": "markdown",
      "metadata": {
        "id": "9Tu6S9xKtM15"
      },
      "source": [
        "Analisando o resultado dos dados separados por antes e depois das ações de retenção da empresa, é possível notar que a média de compras por mês por cliente aumentou em 0.48 compras mensais, cerca de 420% de aumento na média mensal.\n",
        "\n",
        "Os resultados das ações de aumento de vendas não parecem ter efetividade em clientes com mais tempos de empresa, tendo em vista que a maior diferença percentual de vendas entre os dois períodos analisados (Antes de 01/12/2020 e depois de 01/12/2020), que representariam os cenários \"Antes\" e \"Depois\" das ações da diretoria.\n",
        "É possível observar no gráfico que o maior aumento foi em clientes que possuem menos de 150 dias da empresa, ou seja, os que foram adquiridos pouco tempo antes do início das ações de retenção.\n",
        "\n",
        "Mas de qualquer forma, nota-se um resultado efetivo da ação de uma forma geral, com o aumento médio de compras mensais na casa dos 420%."
      ]
    },
    {
      "cell_type": "markdown",
      "metadata": {
        "id": "SjWOgc1TO_Xx"
      },
      "source": [
        "# Margem #\n",
        "\n",
        "-> Análise da margem de lucro por produto, a fim de verificar quais são mais rentáveis (Lucro total e margem %) "
      ]
    },
    {
      "cell_type": "code",
      "metadata": {
        "colab": {
          "base_uri": "https://localhost:8080/",
          "height": 346
        },
        "id": "bXVtcq0gPi-m",
        "outputId": "ec6c279c-c493-4254-a7bc-ca32db1113b4"
      },
      "source": [
        "# Separação por produto do lucro total\n",
        "# 1. Criação de uma coluna com lucro total no DF\n",
        "df5['LUCRO'] = df5['RECEITA'] - (df5['CUSTO_FRETE'] + df5['CUSTO_MERCADORIA_TOT'])\n",
        "# 2. Groupby por produto\n",
        "lucroproduto = df5.groupby('PRODUTO')['LUCRO'].mean()\n",
        "maislucrativos = lucroproduto.sort_values(ascending=False)\n",
        "# 3. Convertendo para DF\n",
        "from pandas import DataFrame\n",
        "df6 = DataFrame(maislucrativos)\n",
        "\n",
        "# Adicionando categorias para melhorar a visualização (Merge com DF de categorias)\n",
        "df7 = pd.merge(df6, df4, on='PRODUTO')\n",
        "\n",
        "print ('\\n --> Análise do lucro médio da empresa para dodos os produtos \\n')\n",
        "df7.describe()"
      ],
      "execution_count": null,
      "outputs": [
        {
          "output_type": "stream",
          "text": [
            "\n",
            " --> Análise do lucro médio da empresa para dodos os produtos \n",
            "\n"
          ],
          "name": "stdout"
        },
        {
          "output_type": "execute_result",
          "data": {
            "text/html": [
              "<div>\n",
              "<style scoped>\n",
              "    .dataframe tbody tr th:only-of-type {\n",
              "        vertical-align: middle;\n",
              "    }\n",
              "\n",
              "    .dataframe tbody tr th {\n",
              "        vertical-align: top;\n",
              "    }\n",
              "\n",
              "    .dataframe thead th {\n",
              "        text-align: right;\n",
              "    }\n",
              "</style>\n",
              "<table border=\"1\" class=\"dataframe\">\n",
              "  <thead>\n",
              "    <tr style=\"text-align: right;\">\n",
              "      <th></th>\n",
              "      <th>LUCRO</th>\n",
              "      <th>CUSTO_MERCADORIA</th>\n",
              "    </tr>\n",
              "  </thead>\n",
              "  <tbody>\n",
              "    <tr>\n",
              "      <th>count</th>\n",
              "      <td>1681.000000</td>\n",
              "      <td>1681.000000</td>\n",
              "    </tr>\n",
              "    <tr>\n",
              "      <th>mean</th>\n",
              "      <td>74.748462</td>\n",
              "      <td>27.787252</td>\n",
              "    </tr>\n",
              "    <tr>\n",
              "      <th>std</th>\n",
              "      <td>144.424407</td>\n",
              "      <td>44.747764</td>\n",
              "    </tr>\n",
              "    <tr>\n",
              "      <th>min</th>\n",
              "      <td>-13.605985</td>\n",
              "      <td>0.520000</td>\n",
              "    </tr>\n",
              "    <tr>\n",
              "      <th>25%</th>\n",
              "      <td>24.083154</td>\n",
              "      <td>8.540000</td>\n",
              "    </tr>\n",
              "    <tr>\n",
              "      <th>50%</th>\n",
              "      <td>46.640444</td>\n",
              "      <td>17.200000</td>\n",
              "    </tr>\n",
              "    <tr>\n",
              "      <th>75%</th>\n",
              "      <td>90.959107</td>\n",
              "      <td>32.710000</td>\n",
              "    </tr>\n",
              "    <tr>\n",
              "      <th>max</th>\n",
              "      <td>4600.320000</td>\n",
              "      <td>898.220000</td>\n",
              "    </tr>\n",
              "  </tbody>\n",
              "</table>\n",
              "</div>"
            ],
            "text/plain": [
              "             LUCRO  CUSTO_MERCADORIA\n",
              "count  1681.000000       1681.000000\n",
              "mean     74.748462         27.787252\n",
              "std     144.424407         44.747764\n",
              "min     -13.605985          0.520000\n",
              "25%      24.083154          8.540000\n",
              "50%      46.640444         17.200000\n",
              "75%      90.959107         32.710000\n",
              "max    4600.320000        898.220000"
            ]
          },
          "metadata": {
            "tags": []
          },
          "execution_count": 105
        }
      ]
    },
    {
      "cell_type": "code",
      "metadata": {
        "colab": {
          "base_uri": "https://localhost:8080/",
          "height": 715
        },
        "id": "LuB0XKxeRyG3",
        "outputId": "9a46f65e-2d5a-49ab-c2c5-0c4d57c43f41"
      },
      "source": [
        "# Pedidos com maior lucro médio\n",
        "print('\\n --> Itens com maior lucro médio por venda \\n')\n",
        "df7.head(20)"
      ],
      "execution_count": null,
      "outputs": [
        {
          "output_type": "stream",
          "text": [
            "\n",
            " --> Itens com maior lucro médio por venda \n",
            "\n"
          ],
          "name": "stdout"
        },
        {
          "output_type": "execute_result",
          "data": {
            "text/html": [
              "<div>\n",
              "<style scoped>\n",
              "    .dataframe tbody tr th:only-of-type {\n",
              "        vertical-align: middle;\n",
              "    }\n",
              "\n",
              "    .dataframe tbody tr th {\n",
              "        vertical-align: top;\n",
              "    }\n",
              "\n",
              "    .dataframe thead th {\n",
              "        text-align: right;\n",
              "    }\n",
              "</style>\n",
              "<table border=\"1\" class=\"dataframe\">\n",
              "  <thead>\n",
              "    <tr style=\"text-align: right;\">\n",
              "      <th></th>\n",
              "      <th>PRODUTO</th>\n",
              "      <th>LUCRO</th>\n",
              "      <th>CUSTO_MERCADORIA</th>\n",
              "      <th>LINHA_PRODUTO</th>\n",
              "    </tr>\n",
              "  </thead>\n",
              "  <tbody>\n",
              "    <tr>\n",
              "      <th>0</th>\n",
              "      <td>E10542Y</td>\n",
              "      <td>4600.320000</td>\n",
              "      <td>858.13</td>\n",
              "      <td>TECH</td>\n",
              "    </tr>\n",
              "    <tr>\n",
              "      <th>1</th>\n",
              "      <td>E10561Y</td>\n",
              "      <td>1217.940000</td>\n",
              "      <td>898.22</td>\n",
              "      <td>TECH</td>\n",
              "    </tr>\n",
              "    <tr>\n",
              "      <th>2</th>\n",
              "      <td>E10808Y</td>\n",
              "      <td>1153.646207</td>\n",
              "      <td>268.19</td>\n",
              "      <td>ACESSORIOS</td>\n",
              "    </tr>\n",
              "    <tr>\n",
              "      <th>3</th>\n",
              "      <td>E10770Y</td>\n",
              "      <td>1105.558750</td>\n",
              "      <td>321.22</td>\n",
              "      <td>BASICO</td>\n",
              "    </tr>\n",
              "    <tr>\n",
              "      <th>4</th>\n",
              "      <td>E10026Y</td>\n",
              "      <td>1061.176667</td>\n",
              "      <td>273.74</td>\n",
              "      <td>ACESSORIOS</td>\n",
              "    </tr>\n",
              "    <tr>\n",
              "      <th>5</th>\n",
              "      <td>E10922Y</td>\n",
              "      <td>949.065000</td>\n",
              "      <td>172.84</td>\n",
              "      <td>BASICO</td>\n",
              "    </tr>\n",
              "    <tr>\n",
              "      <th>6</th>\n",
              "      <td>E10706Y</td>\n",
              "      <td>857.130000</td>\n",
              "      <td>225.63</td>\n",
              "      <td>TECH</td>\n",
              "    </tr>\n",
              "    <tr>\n",
              "      <th>7</th>\n",
              "      <td>E10669Y</td>\n",
              "      <td>713.444286</td>\n",
              "      <td>451.89</td>\n",
              "      <td>ACESSORIOS</td>\n",
              "    </tr>\n",
              "    <tr>\n",
              "      <th>8</th>\n",
              "      <td>E10797Y</td>\n",
              "      <td>649.410714</td>\n",
              "      <td>138.00</td>\n",
              "      <td>BASICO</td>\n",
              "    </tr>\n",
              "    <tr>\n",
              "      <th>9</th>\n",
              "      <td>E10739Y</td>\n",
              "      <td>638.220695</td>\n",
              "      <td>197.53</td>\n",
              "      <td>TECH</td>\n",
              "    </tr>\n",
              "    <tr>\n",
              "      <th>10</th>\n",
              "      <td>E10621Y</td>\n",
              "      <td>603.245652</td>\n",
              "      <td>256.31</td>\n",
              "      <td>BASICO</td>\n",
              "    </tr>\n",
              "    <tr>\n",
              "      <th>11</th>\n",
              "      <td>D10028Y</td>\n",
              "      <td>492.060000</td>\n",
              "      <td>290.07</td>\n",
              "      <td>None</td>\n",
              "    </tr>\n",
              "    <tr>\n",
              "      <th>12</th>\n",
              "      <td>E10656Y</td>\n",
              "      <td>484.864118</td>\n",
              "      <td>133.59</td>\n",
              "      <td>BASICO</td>\n",
              "    </tr>\n",
              "    <tr>\n",
              "      <th>13</th>\n",
              "      <td>D10246Y</td>\n",
              "      <td>477.310000</td>\n",
              "      <td>68.96</td>\n",
              "      <td>None</td>\n",
              "    </tr>\n",
              "    <tr>\n",
              "      <th>14</th>\n",
              "      <td>E10878Y</td>\n",
              "      <td>410.646000</td>\n",
              "      <td>99.66</td>\n",
              "      <td>BOLSAS</td>\n",
              "    </tr>\n",
              "    <tr>\n",
              "      <th>15</th>\n",
              "      <td>E10778Y</td>\n",
              "      <td>403.481154</td>\n",
              "      <td>150.72</td>\n",
              "      <td>FASHION</td>\n",
              "    </tr>\n",
              "    <tr>\n",
              "      <th>16</th>\n",
              "      <td>E10881Y</td>\n",
              "      <td>400.065000</td>\n",
              "      <td>114.09</td>\n",
              "      <td>BOLSAS</td>\n",
              "    </tr>\n",
              "    <tr>\n",
              "      <th>17</th>\n",
              "      <td>D10237Y</td>\n",
              "      <td>387.320000</td>\n",
              "      <td>226.86</td>\n",
              "      <td>None</td>\n",
              "    </tr>\n",
              "    <tr>\n",
              "      <th>18</th>\n",
              "      <td>E10775Y</td>\n",
              "      <td>371.256667</td>\n",
              "      <td>88.65</td>\n",
              "      <td>TECH</td>\n",
              "    </tr>\n",
              "    <tr>\n",
              "      <th>19</th>\n",
              "      <td>E10790Y</td>\n",
              "      <td>354.365000</td>\n",
              "      <td>113.04</td>\n",
              "      <td>ACESSORIOS</td>\n",
              "    </tr>\n",
              "  </tbody>\n",
              "</table>\n",
              "</div>"
            ],
            "text/plain": [
              "    PRODUTO        LUCRO  CUSTO_MERCADORIA LINHA_PRODUTO\n",
              "0   E10542Y  4600.320000            858.13          TECH\n",
              "1   E10561Y  1217.940000            898.22          TECH\n",
              "2   E10808Y  1153.646207            268.19    ACESSORIOS\n",
              "3   E10770Y  1105.558750            321.22        BASICO\n",
              "4   E10026Y  1061.176667            273.74    ACESSORIOS\n",
              "5   E10922Y   949.065000            172.84        BASICO\n",
              "6   E10706Y   857.130000            225.63          TECH\n",
              "7   E10669Y   713.444286            451.89    ACESSORIOS\n",
              "8   E10797Y   649.410714            138.00        BASICO\n",
              "9   E10739Y   638.220695            197.53          TECH\n",
              "10  E10621Y   603.245652            256.31        BASICO\n",
              "11  D10028Y   492.060000            290.07          None\n",
              "12  E10656Y   484.864118            133.59        BASICO\n",
              "13  D10246Y   477.310000             68.96          None\n",
              "14  E10878Y   410.646000             99.66        BOLSAS\n",
              "15  E10778Y   403.481154            150.72       FASHION\n",
              "16  E10881Y   400.065000            114.09        BOLSAS\n",
              "17  D10237Y   387.320000            226.86          None\n",
              "18  E10775Y   371.256667             88.65          TECH\n",
              "19  E10790Y   354.365000            113.04    ACESSORIOS"
            ]
          },
          "metadata": {
            "tags": []
          },
          "execution_count": 108
        }
      ]
    },
    {
      "cell_type": "code",
      "metadata": {
        "colab": {
          "base_uri": "https://localhost:8080/",
          "height": 715
        },
        "id": "jm_NiEXnTV7l",
        "outputId": "07d7e7eb-6b89-4a6f-f9b3-403025921f64"
      },
      "source": [
        "# Itens com menor lucro (ou maior prejuízo)\n",
        "print('\\n --> Itens com menor lucro médio por venda \\n')\n",
        "df7.tail(20)"
      ],
      "execution_count": null,
      "outputs": [
        {
          "output_type": "stream",
          "text": [
            "\n",
            " --> Itens com menor lucro médio por venda \n",
            "\n"
          ],
          "name": "stdout"
        },
        {
          "output_type": "execute_result",
          "data": {
            "text/html": [
              "<div>\n",
              "<style scoped>\n",
              "    .dataframe tbody tr th:only-of-type {\n",
              "        vertical-align: middle;\n",
              "    }\n",
              "\n",
              "    .dataframe tbody tr th {\n",
              "        vertical-align: top;\n",
              "    }\n",
              "\n",
              "    .dataframe thead th {\n",
              "        text-align: right;\n",
              "    }\n",
              "</style>\n",
              "<table border=\"1\" class=\"dataframe\">\n",
              "  <thead>\n",
              "    <tr style=\"text-align: right;\">\n",
              "      <th></th>\n",
              "      <th>PRODUTO</th>\n",
              "      <th>LUCRO</th>\n",
              "      <th>CUSTO_MERCADORIA</th>\n",
              "      <th>LINHA_PRODUTO</th>\n",
              "    </tr>\n",
              "  </thead>\n",
              "  <tbody>\n",
              "    <tr>\n",
              "      <th>1661</th>\n",
              "      <td>B10129G</td>\n",
              "      <td>0.902991</td>\n",
              "      <td>21.68</td>\n",
              "      <td>BASICO</td>\n",
              "    </tr>\n",
              "    <tr>\n",
              "      <th>1662</th>\n",
              "      <td>B10122P</td>\n",
              "      <td>0.652727</td>\n",
              "      <td>23.77</td>\n",
              "      <td>BASICO</td>\n",
              "    </tr>\n",
              "    <tr>\n",
              "      <th>1663</th>\n",
              "      <td>B10121M</td>\n",
              "      <td>0.548204</td>\n",
              "      <td>23.77</td>\n",
              "      <td>BASICO</td>\n",
              "    </tr>\n",
              "    <tr>\n",
              "      <th>1664</th>\n",
              "      <td>B10124G</td>\n",
              "      <td>-0.439750</td>\n",
              "      <td>23.75</td>\n",
              "      <td>BASICO</td>\n",
              "    </tr>\n",
              "    <tr>\n",
              "      <th>1665</th>\n",
              "      <td>D10005</td>\n",
              "      <td>-1.900000</td>\n",
              "      <td>25.68</td>\n",
              "      <td>None</td>\n",
              "    </tr>\n",
              "    <tr>\n",
              "      <th>1666</th>\n",
              "      <td>B10066</td>\n",
              "      <td>-2.898935</td>\n",
              "      <td>20.52</td>\n",
              "      <td>BASICO</td>\n",
              "    </tr>\n",
              "    <tr>\n",
              "      <th>1667</th>\n",
              "      <td>E10164Y</td>\n",
              "      <td>-2.981763</td>\n",
              "      <td>15.45</td>\n",
              "      <td>FASHION</td>\n",
              "    </tr>\n",
              "    <tr>\n",
              "      <th>1668</th>\n",
              "      <td>E10722Y</td>\n",
              "      <td>-3.405206</td>\n",
              "      <td>3.27</td>\n",
              "      <td>FASHION</td>\n",
              "    </tr>\n",
              "    <tr>\n",
              "      <th>1669</th>\n",
              "      <td>E10261Y</td>\n",
              "      <td>-4.420000</td>\n",
              "      <td>4.42</td>\n",
              "      <td>BASICO</td>\n",
              "    </tr>\n",
              "    <tr>\n",
              "      <th>1670</th>\n",
              "      <td>E10368Y</td>\n",
              "      <td>-6.048885</td>\n",
              "      <td>23.68</td>\n",
              "      <td>ACESSORIOS</td>\n",
              "    </tr>\n",
              "    <tr>\n",
              "      <th>1671</th>\n",
              "      <td>B10115</td>\n",
              "      <td>-6.146569</td>\n",
              "      <td>17.20</td>\n",
              "      <td>BASICO</td>\n",
              "    </tr>\n",
              "    <tr>\n",
              "      <th>1672</th>\n",
              "      <td>B10116</td>\n",
              "      <td>-6.387587</td>\n",
              "      <td>17.20</td>\n",
              "      <td>BASICO</td>\n",
              "    </tr>\n",
              "    <tr>\n",
              "      <th>1673</th>\n",
              "      <td>B10137</td>\n",
              "      <td>-7.281573</td>\n",
              "      <td>26.19</td>\n",
              "      <td>BASICO</td>\n",
              "    </tr>\n",
              "    <tr>\n",
              "      <th>1674</th>\n",
              "      <td>B10117</td>\n",
              "      <td>-7.805754</td>\n",
              "      <td>17.20</td>\n",
              "      <td>BASICO</td>\n",
              "    </tr>\n",
              "    <tr>\n",
              "      <th>1675</th>\n",
              "      <td>B10113</td>\n",
              "      <td>-8.012961</td>\n",
              "      <td>17.20</td>\n",
              "      <td>BASICO</td>\n",
              "    </tr>\n",
              "    <tr>\n",
              "      <th>1676</th>\n",
              "      <td>B10114</td>\n",
              "      <td>-8.480913</td>\n",
              "      <td>17.20</td>\n",
              "      <td>BASICO</td>\n",
              "    </tr>\n",
              "    <tr>\n",
              "      <th>1677</th>\n",
              "      <td>B10112</td>\n",
              "      <td>-9.589465</td>\n",
              "      <td>19.50</td>\n",
              "      <td>BASICO</td>\n",
              "    </tr>\n",
              "    <tr>\n",
              "      <th>1678</th>\n",
              "      <td>B10044</td>\n",
              "      <td>-10.480000</td>\n",
              "      <td>22.80</td>\n",
              "      <td>BASICO</td>\n",
              "    </tr>\n",
              "    <tr>\n",
              "      <th>1679</th>\n",
              "      <td>E10154Y</td>\n",
              "      <td>-13.540000</td>\n",
              "      <td>66.55</td>\n",
              "      <td>ACESSORIOS</td>\n",
              "    </tr>\n",
              "    <tr>\n",
              "      <th>1680</th>\n",
              "      <td>E10369Y</td>\n",
              "      <td>-13.605985</td>\n",
              "      <td>17.05</td>\n",
              "      <td>ACESSORIOS</td>\n",
              "    </tr>\n",
              "  </tbody>\n",
              "</table>\n",
              "</div>"
            ],
            "text/plain": [
              "      PRODUTO      LUCRO  CUSTO_MERCADORIA LINHA_PRODUTO\n",
              "1661  B10129G   0.902991             21.68        BASICO\n",
              "1662  B10122P   0.652727             23.77        BASICO\n",
              "1663  B10121M   0.548204             23.77        BASICO\n",
              "1664  B10124G  -0.439750             23.75        BASICO\n",
              "1665   D10005  -1.900000             25.68          None\n",
              "1666   B10066  -2.898935             20.52        BASICO\n",
              "1667  E10164Y  -2.981763             15.45       FASHION\n",
              "1668  E10722Y  -3.405206              3.27       FASHION\n",
              "1669  E10261Y  -4.420000              4.42        BASICO\n",
              "1670  E10368Y  -6.048885             23.68    ACESSORIOS\n",
              "1671   B10115  -6.146569             17.20        BASICO\n",
              "1672   B10116  -6.387587             17.20        BASICO\n",
              "1673   B10137  -7.281573             26.19        BASICO\n",
              "1674   B10117  -7.805754             17.20        BASICO\n",
              "1675   B10113  -8.012961             17.20        BASICO\n",
              "1676   B10114  -8.480913             17.20        BASICO\n",
              "1677   B10112  -9.589465             19.50        BASICO\n",
              "1678   B10044 -10.480000             22.80        BASICO\n",
              "1679  E10154Y -13.540000             66.55    ACESSORIOS\n",
              "1680  E10369Y -13.605985             17.05    ACESSORIOS"
            ]
          },
          "metadata": {
            "tags": []
          },
          "execution_count": 109
        }
      ]
    },
    {
      "cell_type": "markdown",
      "metadata": {
        "id": "7n18TGxlPG5D"
      },
      "source": [
        "Analisando os dados acima, é possível visualizar os 20 produtos com maior lucro médio por venda (Valor Absoluto) bem como os itens com menor lucro médio por venda.\n",
        "\n",
        "Agora repetindo a análise, porém considerando a margem (%) de lucro"
      ]
    },
    {
      "cell_type": "code",
      "metadata": {
        "colab": {
          "base_uri": "https://localhost:8080/",
          "height": 346
        },
        "id": "wTWau8TSUpCS",
        "outputId": "ec899792-88be-4110-ef10-5344fc65817e"
      },
      "source": [
        "# Separação por produto do lucro total\n",
        "# 2. Groupby por produto\n",
        "lucroproduto2 = df5.groupby('PRODUTO')['MARGEM_PERCENT'].mean()\n",
        "maislucrativos2 = lucroproduto2.sort_values(ascending=False)\n",
        "# 3. Convertendo para DF\n",
        "from pandas import DataFrame\n",
        "df8 = DataFrame(maislucrativos2)\n",
        "\n",
        "# Adicionando categorias para melhorar a visualização (Merge com DF de categorias)\n",
        "df9 = pd.merge(df8, df4, on='PRODUTO')\n",
        "\n",
        "print ('\\n --> Análise da margem média da empresa para dodos os produtos \\n')\n",
        "df9.describe()"
      ],
      "execution_count": null,
      "outputs": [
        {
          "output_type": "stream",
          "text": [
            "\n",
            " --> Análise da margem média da empresa para dodos os produtos \n",
            "\n"
          ],
          "name": "stdout"
        },
        {
          "output_type": "execute_result",
          "data": {
            "text/html": [
              "<div>\n",
              "<style scoped>\n",
              "    .dataframe tbody tr th:only-of-type {\n",
              "        vertical-align: middle;\n",
              "    }\n",
              "\n",
              "    .dataframe tbody tr th {\n",
              "        vertical-align: top;\n",
              "    }\n",
              "\n",
              "    .dataframe thead th {\n",
              "        text-align: right;\n",
              "    }\n",
              "</style>\n",
              "<table border=\"1\" class=\"dataframe\">\n",
              "  <thead>\n",
              "    <tr style=\"text-align: right;\">\n",
              "      <th></th>\n",
              "      <th>MARGEM_PERCENT</th>\n",
              "      <th>CUSTO_MERCADORIA</th>\n",
              "    </tr>\n",
              "  </thead>\n",
              "  <tbody>\n",
              "    <tr>\n",
              "      <th>count</th>\n",
              "      <td>1681.000000</td>\n",
              "      <td>1681.000000</td>\n",
              "    </tr>\n",
              "    <tr>\n",
              "      <th>mean</th>\n",
              "      <td>194.222614</td>\n",
              "      <td>27.787252</td>\n",
              "    </tr>\n",
              "    <tr>\n",
              "      <th>std</th>\n",
              "      <td>100.555520</td>\n",
              "      <td>44.747764</td>\n",
              "    </tr>\n",
              "    <tr>\n",
              "      <th>min</th>\n",
              "      <td>-39.881442</td>\n",
              "      <td>0.520000</td>\n",
              "    </tr>\n",
              "    <tr>\n",
              "      <th>25%</th>\n",
              "      <td>116.138550</td>\n",
              "      <td>8.540000</td>\n",
              "    </tr>\n",
              "    <tr>\n",
              "      <th>50%</th>\n",
              "      <td>184.998348</td>\n",
              "      <td>17.200000</td>\n",
              "    </tr>\n",
              "    <tr>\n",
              "      <th>75%</th>\n",
              "      <td>267.955801</td>\n",
              "      <td>32.710000</td>\n",
              "    </tr>\n",
              "    <tr>\n",
              "      <th>max</th>\n",
              "      <td>541.733547</td>\n",
              "      <td>898.220000</td>\n",
              "    </tr>\n",
              "  </tbody>\n",
              "</table>\n",
              "</div>"
            ],
            "text/plain": [
              "       MARGEM_PERCENT  CUSTO_MERCADORIA\n",
              "count     1681.000000       1681.000000\n",
              "mean       194.222614         27.787252\n",
              "std        100.555520         44.747764\n",
              "min        -39.881442          0.520000\n",
              "25%        116.138550          8.540000\n",
              "50%        184.998348         17.200000\n",
              "75%        267.955801         32.710000\n",
              "max        541.733547        898.220000"
            ]
          },
          "metadata": {
            "tags": []
          },
          "execution_count": 115
        }
      ]
    },
    {
      "cell_type": "code",
      "metadata": {
        "colab": {
          "base_uri": "https://localhost:8080/",
          "height": 715
        },
        "id": "MNa9kWehVDlj",
        "outputId": "c7cdddfc-7365-4fe2-8af0-f67fed7951e6"
      },
      "source": [
        "# Pedidos com maior margem média\n",
        "print('\\n --> Itens com maior margem média % por venda \\n')\n",
        "df9.head(20)"
      ],
      "execution_count": null,
      "outputs": [
        {
          "output_type": "stream",
          "text": [
            "\n",
            " --> Itens com maior margem média % por venda \n",
            "\n"
          ],
          "name": "stdout"
        },
        {
          "output_type": "execute_result",
          "data": {
            "text/html": [
              "<div>\n",
              "<style scoped>\n",
              "    .dataframe tbody tr th:only-of-type {\n",
              "        vertical-align: middle;\n",
              "    }\n",
              "\n",
              "    .dataframe tbody tr th {\n",
              "        vertical-align: top;\n",
              "    }\n",
              "\n",
              "    .dataframe thead th {\n",
              "        text-align: right;\n",
              "    }\n",
              "</style>\n",
              "<table border=\"1\" class=\"dataframe\">\n",
              "  <thead>\n",
              "    <tr style=\"text-align: right;\">\n",
              "      <th></th>\n",
              "      <th>PRODUTO</th>\n",
              "      <th>MARGEM_PERCENT</th>\n",
              "      <th>CUSTO_MERCADORIA</th>\n",
              "      <th>LINHA_PRODUTO</th>\n",
              "    </tr>\n",
              "  </thead>\n",
              "  <tbody>\n",
              "    <tr>\n",
              "      <th>0</th>\n",
              "      <td>E10923Y</td>\n",
              "      <td>541.733547</td>\n",
              "      <td>31.15</td>\n",
              "      <td>BASICO</td>\n",
              "    </tr>\n",
              "    <tr>\n",
              "      <th>1</th>\n",
              "      <td>E10892Y</td>\n",
              "      <td>516.106387</td>\n",
              "      <td>13.69</td>\n",
              "      <td>FASHION</td>\n",
              "    </tr>\n",
              "    <tr>\n",
              "      <th>2</th>\n",
              "      <td>E10882Y</td>\n",
              "      <td>507.669816</td>\n",
              "      <td>32.93</td>\n",
              "      <td>BOLSAS</td>\n",
              "    </tr>\n",
              "    <tr>\n",
              "      <th>3</th>\n",
              "      <td>E10771Y</td>\n",
              "      <td>500.151640</td>\n",
              "      <td>11.28</td>\n",
              "      <td>TECH</td>\n",
              "    </tr>\n",
              "    <tr>\n",
              "      <th>4</th>\n",
              "      <td>E10924Y</td>\n",
              "      <td>496.173284</td>\n",
              "      <td>15.31</td>\n",
              "      <td>BASICO</td>\n",
              "    </tr>\n",
              "    <tr>\n",
              "      <th>5</th>\n",
              "      <td>E10897Y</td>\n",
              "      <td>480.964691</td>\n",
              "      <td>5.61</td>\n",
              "      <td>BASICO</td>\n",
              "    </tr>\n",
              "    <tr>\n",
              "      <th>6</th>\n",
              "      <td>E10848Y</td>\n",
              "      <td>475.108487</td>\n",
              "      <td>25.08</td>\n",
              "      <td>ACESSORIOS</td>\n",
              "    </tr>\n",
              "    <tr>\n",
              "      <th>7</th>\n",
              "      <td>E10757Y</td>\n",
              "      <td>469.630037</td>\n",
              "      <td>16.99</td>\n",
              "      <td>BASICO</td>\n",
              "    </tr>\n",
              "    <tr>\n",
              "      <th>8</th>\n",
              "      <td>B10142</td>\n",
              "      <td>464.127574</td>\n",
              "      <td>11.42</td>\n",
              "      <td>ACESSORIOS</td>\n",
              "    </tr>\n",
              "    <tr>\n",
              "      <th>9</th>\n",
              "      <td>E10133Y</td>\n",
              "      <td>456.211154</td>\n",
              "      <td>12.11</td>\n",
              "      <td>BOLSAS</td>\n",
              "    </tr>\n",
              "    <tr>\n",
              "      <th>10</th>\n",
              "      <td>E10626Y</td>\n",
              "      <td>454.691627</td>\n",
              "      <td>1.24</td>\n",
              "      <td>BASICO</td>\n",
              "    </tr>\n",
              "    <tr>\n",
              "      <th>11</th>\n",
              "      <td>E10856Y</td>\n",
              "      <td>450.763487</td>\n",
              "      <td>3.01</td>\n",
              "      <td>TECH</td>\n",
              "    </tr>\n",
              "    <tr>\n",
              "      <th>12</th>\n",
              "      <td>E10035Y</td>\n",
              "      <td>448.388872</td>\n",
              "      <td>6.47</td>\n",
              "      <td>FASHION</td>\n",
              "    </tr>\n",
              "    <tr>\n",
              "      <th>13</th>\n",
              "      <td>E10936Y</td>\n",
              "      <td>446.502313</td>\n",
              "      <td>53.24</td>\n",
              "      <td>BOLSAS</td>\n",
              "    </tr>\n",
              "    <tr>\n",
              "      <th>14</th>\n",
              "      <td>E10937Y</td>\n",
              "      <td>442.437682</td>\n",
              "      <td>23.59</td>\n",
              "      <td>FASHION</td>\n",
              "    </tr>\n",
              "    <tr>\n",
              "      <th>15</th>\n",
              "      <td>E10184Y</td>\n",
              "      <td>442.333735</td>\n",
              "      <td>13.00</td>\n",
              "      <td>BASICO</td>\n",
              "    </tr>\n",
              "    <tr>\n",
              "      <th>16</th>\n",
              "      <td>E10906Y</td>\n",
              "      <td>440.078690</td>\n",
              "      <td>29.61</td>\n",
              "      <td>ACESSORIOS</td>\n",
              "    </tr>\n",
              "    <tr>\n",
              "      <th>17</th>\n",
              "      <td>B10038</td>\n",
              "      <td>439.874978</td>\n",
              "      <td>0.74</td>\n",
              "      <td>BASICO</td>\n",
              "    </tr>\n",
              "    <tr>\n",
              "      <th>18</th>\n",
              "      <td>E10916Y</td>\n",
              "      <td>434.200554</td>\n",
              "      <td>19.45</td>\n",
              "      <td>FASHION</td>\n",
              "    </tr>\n",
              "    <tr>\n",
              "      <th>19</th>\n",
              "      <td>E10032Y</td>\n",
              "      <td>433.498347</td>\n",
              "      <td>6.68</td>\n",
              "      <td>FASHION</td>\n",
              "    </tr>\n",
              "  </tbody>\n",
              "</table>\n",
              "</div>"
            ],
            "text/plain": [
              "    PRODUTO  MARGEM_PERCENT  CUSTO_MERCADORIA LINHA_PRODUTO\n",
              "0   E10923Y      541.733547             31.15        BASICO\n",
              "1   E10892Y      516.106387             13.69       FASHION\n",
              "2   E10882Y      507.669816             32.93        BOLSAS\n",
              "3   E10771Y      500.151640             11.28          TECH\n",
              "4   E10924Y      496.173284             15.31        BASICO\n",
              "5   E10897Y      480.964691              5.61        BASICO\n",
              "6   E10848Y      475.108487             25.08    ACESSORIOS\n",
              "7   E10757Y      469.630037             16.99        BASICO\n",
              "8    B10142      464.127574             11.42    ACESSORIOS\n",
              "9   E10133Y      456.211154             12.11        BOLSAS\n",
              "10  E10626Y      454.691627              1.24        BASICO\n",
              "11  E10856Y      450.763487              3.01          TECH\n",
              "12  E10035Y      448.388872              6.47       FASHION\n",
              "13  E10936Y      446.502313             53.24        BOLSAS\n",
              "14  E10937Y      442.437682             23.59       FASHION\n",
              "15  E10184Y      442.333735             13.00        BASICO\n",
              "16  E10906Y      440.078690             29.61    ACESSORIOS\n",
              "17   B10038      439.874978              0.74        BASICO\n",
              "18  E10916Y      434.200554             19.45       FASHION\n",
              "19  E10032Y      433.498347              6.68       FASHION"
            ]
          },
          "metadata": {
            "tags": []
          },
          "execution_count": 116
        }
      ]
    },
    {
      "cell_type": "code",
      "metadata": {
        "colab": {
          "base_uri": "https://localhost:8080/",
          "height": 715
        },
        "id": "31KL44XKVJEv",
        "outputId": "7cbafa3c-4c9c-41ab-999e-17d4d54b5d9e"
      },
      "source": [
        "# Itens com menor margem %\n",
        "print('\\n --> Itens com menor margem % média por venda \\n')\n",
        "df9.tail(20)"
      ],
      "execution_count": null,
      "outputs": [
        {
          "output_type": "stream",
          "text": [
            "\n",
            " --> Itens com menor margem % média por venda \n",
            "\n"
          ],
          "name": "stdout"
        },
        {
          "output_type": "execute_result",
          "data": {
            "text/html": [
              "<div>\n",
              "<style scoped>\n",
              "    .dataframe tbody tr th:only-of-type {\n",
              "        vertical-align: middle;\n",
              "    }\n",
              "\n",
              "    .dataframe tbody tr th {\n",
              "        vertical-align: top;\n",
              "    }\n",
              "\n",
              "    .dataframe thead th {\n",
              "        text-align: right;\n",
              "    }\n",
              "</style>\n",
              "<table border=\"1\" class=\"dataframe\">\n",
              "  <thead>\n",
              "    <tr style=\"text-align: right;\">\n",
              "      <th></th>\n",
              "      <th>PRODUTO</th>\n",
              "      <th>MARGEM_PERCENT</th>\n",
              "      <th>CUSTO_MERCADORIA</th>\n",
              "      <th>LINHA_PRODUTO</th>\n",
              "    </tr>\n",
              "  </thead>\n",
              "  <tbody>\n",
              "    <tr>\n",
              "      <th>1661</th>\n",
              "      <td>D10003</td>\n",
              "      <td>2.702926</td>\n",
              "      <td>109.78</td>\n",
              "      <td>None</td>\n",
              "    </tr>\n",
              "    <tr>\n",
              "      <th>1662</th>\n",
              "      <td>B10122P</td>\n",
              "      <td>2.107060</td>\n",
              "      <td>23.77</td>\n",
              "      <td>BASICO</td>\n",
              "    </tr>\n",
              "    <tr>\n",
              "      <th>1663</th>\n",
              "      <td>B10121M</td>\n",
              "      <td>1.330345</td>\n",
              "      <td>23.77</td>\n",
              "      <td>BASICO</td>\n",
              "    </tr>\n",
              "    <tr>\n",
              "      <th>1664</th>\n",
              "      <td>B10124G</td>\n",
              "      <td>-2.002199</td>\n",
              "      <td>23.75</td>\n",
              "      <td>BASICO</td>\n",
              "    </tr>\n",
              "    <tr>\n",
              "      <th>1665</th>\n",
              "      <td>D10005</td>\n",
              "      <td>-6.451613</td>\n",
              "      <td>25.68</td>\n",
              "      <td>None</td>\n",
              "    </tr>\n",
              "    <tr>\n",
              "      <th>1666</th>\n",
              "      <td>B10066</td>\n",
              "      <td>-9.914855</td>\n",
              "      <td>20.52</td>\n",
              "      <td>BASICO</td>\n",
              "    </tr>\n",
              "    <tr>\n",
              "      <th>1667</th>\n",
              "      <td>E10164Y</td>\n",
              "      <td>-13.375489</td>\n",
              "      <td>15.45</td>\n",
              "      <td>FASHION</td>\n",
              "    </tr>\n",
              "    <tr>\n",
              "      <th>1668</th>\n",
              "      <td>E10154Y</td>\n",
              "      <td>-17.972815</td>\n",
              "      <td>66.55</td>\n",
              "      <td>ACESSORIOS</td>\n",
              "    </tr>\n",
              "    <tr>\n",
              "      <th>1669</th>\n",
              "      <td>E10368Y</td>\n",
              "      <td>-18.198873</td>\n",
              "      <td>23.68</td>\n",
              "      <td>ACESSORIOS</td>\n",
              "    </tr>\n",
              "    <tr>\n",
              "      <th>1670</th>\n",
              "      <td>B10137</td>\n",
              "      <td>-20.181861</td>\n",
              "      <td>26.19</td>\n",
              "      <td>BASICO</td>\n",
              "    </tr>\n",
              "    <tr>\n",
              "      <th>1671</th>\n",
              "      <td>B10117</td>\n",
              "      <td>-25.318645</td>\n",
              "      <td>17.20</td>\n",
              "      <td>BASICO</td>\n",
              "    </tr>\n",
              "    <tr>\n",
              "      <th>1672</th>\n",
              "      <td>B10115</td>\n",
              "      <td>-26.774802</td>\n",
              "      <td>17.20</td>\n",
              "      <td>BASICO</td>\n",
              "    </tr>\n",
              "    <tr>\n",
              "      <th>1673</th>\n",
              "      <td>B10116</td>\n",
              "      <td>-28.500051</td>\n",
              "      <td>17.20</td>\n",
              "      <td>BASICO</td>\n",
              "    </tr>\n",
              "    <tr>\n",
              "      <th>1674</th>\n",
              "      <td>B10112</td>\n",
              "      <td>-31.194157</td>\n",
              "      <td>19.50</td>\n",
              "      <td>BASICO</td>\n",
              "    </tr>\n",
              "    <tr>\n",
              "      <th>1675</th>\n",
              "      <td>B10044</td>\n",
              "      <td>-31.196955</td>\n",
              "      <td>22.80</td>\n",
              "      <td>BASICO</td>\n",
              "    </tr>\n",
              "    <tr>\n",
              "      <th>1676</th>\n",
              "      <td>B10114</td>\n",
              "      <td>-33.484015</td>\n",
              "      <td>17.20</td>\n",
              "      <td>BASICO</td>\n",
              "    </tr>\n",
              "    <tr>\n",
              "      <th>1677</th>\n",
              "      <td>B10113</td>\n",
              "      <td>-34.587725</td>\n",
              "      <td>17.20</td>\n",
              "      <td>BASICO</td>\n",
              "    </tr>\n",
              "    <tr>\n",
              "      <th>1678</th>\n",
              "      <td>E10261Y</td>\n",
              "      <td>-37.844754</td>\n",
              "      <td>4.42</td>\n",
              "      <td>BASICO</td>\n",
              "    </tr>\n",
              "    <tr>\n",
              "      <th>1679</th>\n",
              "      <td>E10369Y</td>\n",
              "      <td>-39.814595</td>\n",
              "      <td>17.05</td>\n",
              "      <td>ACESSORIOS</td>\n",
              "    </tr>\n",
              "    <tr>\n",
              "      <th>1680</th>\n",
              "      <td>E10722Y</td>\n",
              "      <td>-39.881442</td>\n",
              "      <td>3.27</td>\n",
              "      <td>FASHION</td>\n",
              "    </tr>\n",
              "  </tbody>\n",
              "</table>\n",
              "</div>"
            ],
            "text/plain": [
              "      PRODUTO  MARGEM_PERCENT  CUSTO_MERCADORIA LINHA_PRODUTO\n",
              "1661   D10003        2.702926            109.78          None\n",
              "1662  B10122P        2.107060             23.77        BASICO\n",
              "1663  B10121M        1.330345             23.77        BASICO\n",
              "1664  B10124G       -2.002199             23.75        BASICO\n",
              "1665   D10005       -6.451613             25.68          None\n",
              "1666   B10066       -9.914855             20.52        BASICO\n",
              "1667  E10164Y      -13.375489             15.45       FASHION\n",
              "1668  E10154Y      -17.972815             66.55    ACESSORIOS\n",
              "1669  E10368Y      -18.198873             23.68    ACESSORIOS\n",
              "1670   B10137      -20.181861             26.19        BASICO\n",
              "1671   B10117      -25.318645             17.20        BASICO\n",
              "1672   B10115      -26.774802             17.20        BASICO\n",
              "1673   B10116      -28.500051             17.20        BASICO\n",
              "1674   B10112      -31.194157             19.50        BASICO\n",
              "1675   B10044      -31.196955             22.80        BASICO\n",
              "1676   B10114      -33.484015             17.20        BASICO\n",
              "1677   B10113      -34.587725             17.20        BASICO\n",
              "1678  E10261Y      -37.844754              4.42        BASICO\n",
              "1679  E10369Y      -39.814595             17.05    ACESSORIOS\n",
              "1680  E10722Y      -39.881442              3.27       FASHION"
            ]
          },
          "metadata": {
            "tags": []
          },
          "execution_count": 117
        }
      ]
    },
    {
      "cell_type": "markdown",
      "metadata": {
        "id": "y4yRNyOoVmh8"
      },
      "source": [
        "## Conclusões ##\n",
        "\n",
        "Analisando os procutos com maiores e menores margens (%) médias e lucro médio é possível notar uma diferença significativa nos resultados\n",
        "\n",
        "1. Margens de lucro médias por produto (%): Neste caso, é possível perceber que os produtos das categorias básico e acessórios são predominantes quando o assunto é a maior margem de lucro. Porém no caso das menores margens percentuais, também temos uma lista dominada por produto basicos e acessórios\n",
        "\n",
        "2. Ao olhar do lucro médio por produto, nota-se uma maior presença de produtos TECH que entregam um valor maior de lucro.\n",
        "\n",
        "Neste caso, os produtos a serem retirados da loja e os que deveriam ter a divulgação aumentados estão apresentados nas listas acima."
      ]
    }
  ]
}